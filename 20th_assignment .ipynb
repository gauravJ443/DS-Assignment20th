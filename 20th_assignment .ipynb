{
 "cells": [
  {
   "cell_type": "code",
   "execution_count": 1,
   "id": "5713ae15",
   "metadata": {},
   "outputs": [
    {
     "name": "stdout",
     "output_type": "stream",
     "text": [
      "eman ruoy si tahW\n"
     ]
    }
   ],
   "source": [
    "# 1. Write a program to reverse a string. [method 1]\n",
    "def string_name(input_string):\n",
    "    reverse_string=\"\"\n",
    "    for char in input_string:\n",
    "        reverse_string = char+reverse_string\n",
    "    return reverse_string\n",
    "input_string= \"What is your name\"\n",
    "reverse_string=string_name(input_string)\n",
    "print(reverse_string)\n",
    "    "
   ]
  },
  {
   "cell_type": "code",
   "execution_count": 2,
   "id": "17fb2819",
   "metadata": {},
   "outputs": [
    {
     "name": "stdout",
     "output_type": "stream",
     "text": [
      "nam olleH\n"
     ]
    }
   ],
   "source": [
    "def my_func(x):\n",
    "    return x[::-1]\n",
    "mytext=my_func(\"Hello man\")\n",
    "print(mytext)"
   ]
  },
  {
   "cell_type": "code",
   "execution_count": 3,
   "id": "5ec88c1d",
   "metadata": {},
   "outputs": [
    {
     "name": "stdout",
     "output_type": "stream",
     "text": [
      "To check if it is plaindrome or not: \n"
     ]
    },
    {
     "data": {
      "text/plain": [
       "True"
      ]
     },
     "execution_count": 3,
     "metadata": {},
     "output_type": "execute_result"
    }
   ],
   "source": [
    "#2. Check if a string is a palindrome.\n",
    "def is_palindrome(p):\n",
    "    p=p.lower() #checking the lower case\n",
    "    p= ''.join(s for s in p if s.isalnum())\n",
    "    return p ==p[::-1]\n",
    "p=input(\"To check if it is plaindrome or not: \")\n",
    "is_palindrome(p)\n",
    "\n",
    "    "
   ]
  },
  {
   "cell_type": "code",
   "execution_count": 4,
   "id": "a3dc2d57",
   "metadata": {},
   "outputs": [
    {
     "name": "stdout",
     "output_type": "stream",
     "text": [
      "Enter the String: \n",
      "The String in upper case would be \n"
     ]
    }
   ],
   "source": [
    "#3. Convert a string to uppercase.\n",
    "input_str= input(\"Enter the String: \")\n",
    "uppercase_str= input_str.upper()\n",
    "print(f\"The String in upper case would be {uppercase_str}\")"
   ]
  },
  {
   "cell_type": "code",
   "execution_count": 5,
   "id": "e5d02957",
   "metadata": {},
   "outputs": [
    {
     "name": "stdout",
     "output_type": "stream",
     "text": [
      "Enter the String: \n",
      "The String in lower case would be \n"
     ]
    }
   ],
   "source": [
    "#4. Convert a string to lowercase.\n",
    "input_str= input(\"Enter the String: \")\n",
    "lowercase_str= input_str.lower()\n",
    "print(f\"The String in lower case would be {lowercase_str}\")"
   ]
  },
  {
   "cell_type": "code",
   "execution_count": 6,
   "id": "b136566f",
   "metadata": {},
   "outputs": [
    {
     "name": "stdout",
     "output_type": "stream",
     "text": [
      "Write any word: \n",
      "Number of vowels is 0\n"
     ]
    }
   ],
   "source": [
    "#5. Count the number of vowels in a string\n",
    "def count_vowel(v):\n",
    "    vowel_count=0\n",
    "    vowels='aeiouAEIOU'\n",
    "    for char in v:\n",
    "        if char in vowels:\n",
    "            vowel_count += 1\n",
    "    return (vowel_count)\n",
    "v=input(\"Write any word: \")\n",
    "result= count_vowel(v)\n",
    "print(f\"Number of vowels is {result}\")\n",
    "\n",
    "    "
   ]
  },
  {
   "cell_type": "code",
   "execution_count": 7,
   "id": "439dedaf",
   "metadata": {},
   "outputs": [
    {
     "name": "stdout",
     "output_type": "stream",
     "text": [
      "Enter a Character: \n",
      "The Number of constant characters are 0\n"
     ]
    }
   ],
   "source": [
    "#6. Number of constants in a string\n",
    "def no_const(s):\n",
    "    constant_count=0\n",
    "    constants = \"bcdfghjlmnprstvwxyzBCDFGHJLMNPRSTVWXYZ\"\n",
    "    \n",
    "    for char in s:\n",
    "        if char in constants:\n",
    "            constant_count +=1\n",
    "    return constant_count\n",
    "input_char= input(\"Enter a Character: \")\n",
    "result= no_const(input_char)\n",
    "print(f\"The Number of constant characters are {result}\")\n",
    "\n",
    "    \n",
    "    "
   ]
  },
  {
   "cell_type": "code",
   "execution_count": 8,
   "id": "9b3f2758",
   "metadata": {},
   "outputs": [
    {
     "name": "stdout",
     "output_type": "stream",
     "text": [
      "EnteraStringfwithspaceinit:\n"
     ]
    }
   ],
   "source": [
    "#7 Removing all thge whitespace from a string\n",
    "\n",
    "def whitespace(i):\n",
    "    result= \"\"\n",
    "    for char in i:\n",
    "        if char != \" \":\n",
    "            result +=char\n",
    "    return result\n",
    "\n",
    "input_char= \"Enter a Stringf with space in it: \"\n",
    "results=whitespace(input_char)\n",
    "print(results)"
   ]
  },
  {
   "cell_type": "code",
   "execution_count": 9,
   "id": "3a479c88",
   "metadata": {},
   "outputs": [
    {
     "name": "stdout",
     "output_type": "stream",
     "text": [
      "Enter the String to find the length: \n",
      "0\n"
     ]
    }
   ],
   "source": [
    "#8 Find the length of string without using len()\n",
    "def len_str(l):\n",
    "    count=0\n",
    "    for char in l:\n",
    "        count +=1\n",
    "    return count\n",
    "input_char= input(\"Enter the String to find the length: \")\n",
    "result= len_str(input_char)\n",
    "print(result)\n"
   ]
  },
  {
   "cell_type": "code",
   "execution_count": 10,
   "id": "20606b5b",
   "metadata": {},
   "outputs": [
    {
     "name": "stdout",
     "output_type": "stream",
     "text": [
      "Enter a string: \n",
      "Enter a word to find: \n",
      "The string contains the specific word \n"
     ]
    }
   ],
   "source": [
    "#9 check if string contain specific word \n",
    "input_string= input(\"Enter a string: \")\n",
    "specific_word=input(\"Enter a word to find: \")\n",
    "\n",
    "if specific_word in input_string:\n",
    "    print(\"The string contains the specific word\",specific_word)\n",
    "else:\n",
    "    print(\"The string does not contain the word mentioned\",specific_word)"
   ]
  },
  {
   "cell_type": "code",
   "execution_count": 11,
   "id": "2c9182db",
   "metadata": {},
   "outputs": [
    {
     "name": "stdout",
     "output_type": "stream",
     "text": [
      "Enter a sentence: \n",
      "Enter a world to be replace: \n",
      "Enter a word to be replace with: \n",
      "The modifed sentence is: \n"
     ]
    }
   ],
   "source": [
    "#10 Replace a word in a string with another word\n",
    "input_string= input(\"Enter a sentence: \")\n",
    "old_word= input (\"Enter a world to be replace: \")\n",
    "new_word= input(\"Enter a word to be replace with: \")\n",
    "\n",
    "modified_str= input_string.replace(old_word,new_word)\n",
    "\n",
    "print(f\"The modifed sentence is: {modified_str}\")"
   ]
  },
  {
   "cell_type": "code",
   "execution_count": 12,
   "id": "9bf33791",
   "metadata": {},
   "outputs": [
    {
     "name": "stdout",
     "output_type": "stream",
     "text": [
      "The word 'sample' appears 1 times in the input string.\n"
     ]
    }
   ],
   "source": [
    "#11. count the occurence of word in string\n",
    "def count_word_occurrences(input_string, target_word):\n",
    "    # Step 1: Initialize a variable to keep track of the word count\n",
    "    word_count = 0\n",
    "\n",
    "    # Step 2: Split the input string into a list of words\n",
    "    words = input_string.split()\n",
    "\n",
    "    # Step 3: Iterate through each word in the list\n",
    "    for word in words:\n",
    "        # Step 4: Check if the current word matches the target word\n",
    "        if word == target_word:\n",
    "            # Step 5: Increment the word count if the words match\n",
    "            word_count += 1\n",
    "\n",
    "    # Step 6: Return the final word count\n",
    "    return word_count\n",
    "\n",
    "# Input string\n",
    "input_string = \"This is a sample sentence. This sentence contains the word 'sample' multiple times.\"\n",
    "\n",
    "# Target word to count\n",
    "target_word = \"sample\"\n",
    "\n",
    "# Call the function and print the result\n",
    "result = count_word_occurrences(input_string, target_word)\n",
    "print(f\"The word '{target_word}' appears {result} times in the input string.\")"
   ]
  },
  {
   "cell_type": "code",
   "execution_count": 13,
   "id": "dc43befc",
   "metadata": {},
   "outputs": [
    {
     "name": "stdout",
     "output_type": "stream",
     "text": [
      "Index of the first occurence is 18\n"
     ]
    }
   ],
   "source": [
    "#12.Find the first occurence of a word in string\n",
    "def first_occur(text, word):\n",
    "    index= text.find(word)\n",
    "    \n",
    "    if index== -1:\n",
    "        return None\n",
    "    return index\n",
    "text= \"This is a example sentence, from which need to fetch the sentence\"\n",
    "word=\"sentence\"\n",
    "result= first_occur(text, word)\n",
    "print(\"Index of the first occurence is\",result)"
   ]
  },
  {
   "cell_type": "code",
   "execution_count": 14,
   "id": "e2ee08e1",
   "metadata": {},
   "outputs": [
    {
     "name": "stdout",
     "output_type": "stream",
     "text": [
      "Index of the first occurence is 57\n"
     ]
    }
   ],
   "source": [
    "#13. Find the last occurence of a word in string\n",
    "def first_occur(text, word):\n",
    "    index= text.rfind(word)\n",
    "    \n",
    "    if index== -1:\n",
    "        return None\n",
    "    return index\n",
    "text= \"This is a example sentence, from which need to fetch the sentence\"\n",
    "word=\"sentence\"\n",
    "result= first_occur(text, word)\n",
    "print(\"Index of the first occurence is\",result)\n",
    "\n"
   ]
  },
  {
   "cell_type": "code",
   "execution_count": 15,
   "id": "4ddecae3",
   "metadata": {},
   "outputs": [
    {
     "name": "stdout",
     "output_type": "stream",
     "text": [
      "The split of string into List:  ['This', 'is', 'an', 'example', 'of', 'sentence.']\n"
     ]
    }
   ],
   "source": [
    "#14.split the string into a list of words\n",
    "def split_string(text):\n",
    "    words_list= text.split()\n",
    "    return words_list\n",
    "t=\"This is an example of sentence.\"\n",
    "result= split_string(t)\n",
    "print(\"The split of string into List: \",result)"
   ]
  },
  {
   "cell_type": "code",
   "execution_count": 16,
   "id": "dece9efb",
   "metadata": {},
   "outputs": [
    {
     "name": "stdout",
     "output_type": "stream",
     "text": [
      "Joined words:  This is an example of sentence.\n"
     ]
    }
   ],
   "source": [
    "#15.join a list of words into a string\n",
    "def join_words(text):\n",
    "    joined_string = \" \".join(text)\n",
    "    return joined_string\n",
    "words= ['This', 'is', 'an', 'example', 'of', 'sentence.']\n",
    "result= join_words(words)\n",
    "print(\"Joined words: \",result)"
   ]
  },
  {
   "cell_type": "code",
   "execution_count": 17,
   "id": "56aa1eaf",
   "metadata": {},
   "outputs": [
    {
     "name": "stdout",
     "output_type": "stream",
     "text": [
      "Write the text with space to see the magic: \n",
      "The converted Text:  \n"
     ]
    }
   ],
   "source": [
    "#16.COnvert a string where words are separated by space to one where words are separated by underscore\n",
    "def convert_words(text):\n",
    "    underscore_sep= text.replace(\" \",\"_\")\n",
    "    return underscore_sep\n",
    "text= input(\"Write the text with space to see the magic: \")\n",
    "result= convert_words(text)\n",
    "print(\"The converted Text: \",result)"
   ]
  },
  {
   "cell_type": "code",
   "execution_count": 18,
   "id": "d3e58e1c",
   "metadata": {},
   "outputs": [
    {
     "name": "stdout",
     "output_type": "stream",
     "text": [
      "The text starts with the prefix.\n"
     ]
    }
   ],
   "source": [
    "#17. Check if string start with a specific word or phrase\n",
    "def starts_with(text, prefix):\n",
    "    # Step 1: Use the startswith() method to check if the text starts with the specified prefix.\n",
    "    is_start = text.startswith(prefix)\n",
    "\n",
    "    # Step 2: Return the result of the check.\n",
    "    return is_start\n",
    "\n",
    "# Example usage\n",
    "text = \"Hello, world!\"\n",
    "prefix = \"Hello\"\n",
    "result = starts_with(text, prefix)\n",
    "if result:\n",
    "    print(\"The text starts with the prefix.\")\n",
    "else:\n",
    "    print(\"The text does not start with the prefix.\")"
   ]
  },
  {
   "cell_type": "code",
   "execution_count": 19,
   "id": "54bdf6c7",
   "metadata": {},
   "outputs": [
    {
     "name": "stdout",
     "output_type": "stream",
     "text": [
      "The text ends with suffix. \n"
     ]
    }
   ],
   "source": [
    "#18 check if string ends with specific word\n",
    "def ends_with(text,suffix):\n",
    "    is_end= text.endswith(suffix)\n",
    "    return is_end\n",
    "text='Helo,buddy'\n",
    "suffix= 'buddy'\n",
    "result= ends_with(text,suffix)\n",
    "if result:\n",
    "    print(\"The text ends with suffix. \")\n",
    "else:\n",
    "    print(\"The text does not ends with suffix\")"
   ]
  },
  {
   "cell_type": "code",
   "execution_count": 20,
   "id": "87be7285",
   "metadata": {},
   "outputs": [
    {
     "name": "stdout",
     "output_type": "stream",
     "text": [
      "The Title case is:  Hello People\n"
     ]
    }
   ],
   "source": [
    "#19.Convert string to Title case\n",
    "def convert_string(text):\n",
    "    title_case=text.title()\n",
    "    return title_case\n",
    "text=\"hello people\"\n",
    "result= convert_string(text)\n",
    "print(\"The Title case is: \",result)"
   ]
  },
  {
   "cell_type": "code",
   "execution_count": 21,
   "id": "a6d6b9de",
   "metadata": {},
   "outputs": [
    {
     "name": "stdout",
     "output_type": "stream",
     "text": [
      "The Longest word:  abrakadabra\n"
     ]
    }
   ],
   "source": [
    "#20 find the longest word in a string\n",
    "def longest_word(text):\n",
    "    words = text.split()\n",
    "    #initalize var to keep track of the longest word\n",
    "    longest_word=\"\"\n",
    "    max_length= 0\n",
    "    for word in words:\n",
    "        if len(word) > max_length:\n",
    "            max_length = len(word)\n",
    "            longest_word = word\n",
    "    return longest_word\n",
    "text=\"This should be the abrakadabra\"\n",
    "long_word= longest_word(text)\n",
    "print(\"The Longest word: \",long_word)\n",
    "            \n",
    "            \n",
    "    \n",
    "    "
   ]
  },
  {
   "cell_type": "code",
   "execution_count": 22,
   "id": "aa5e20af",
   "metadata": {},
   "outputs": [
    {
     "name": "stdout",
     "output_type": "stream",
     "text": [
      "The Shortest word around:  is\n"
     ]
    }
   ],
   "source": [
    "#21.finding the shortest word in string \n",
    "def shortest_word(text):\n",
    "    words= text.split()\n",
    "    shortest_word=None\n",
    "    min_length= float('inf')  #initialize to a large value\n",
    "    for word in words:\n",
    "        if len(word) < min_length:\n",
    "            min_length=len(word)\n",
    "            shortest_word = word\n",
    "    return shortest_word\n",
    "\n",
    "text= \"This is the shortest word around\"\n",
    "shortest_words= shortest_word(text)\n",
    "print(\"The Shortest word around: \",shortest_words)"
   ]
  },
  {
   "cell_type": "code",
   "execution_count": 23,
   "id": "d7bf2f9c",
   "metadata": {},
   "outputs": [
    {
     "name": "stdout",
     "output_type": "stream",
     "text": [
      "The string is alpha numeric\n"
     ]
    }
   ],
   "source": [
    "#check if a string is alpha numeric\n",
    "def alphanumeric(text):\n",
    "    return text.isalnum()\n",
    "text= \"Hello123\"\n",
    "result= alphanumeric(text)\n",
    "if result:\n",
    "    print(\"The string is alpha numeric\")\n",
    "else:\n",
    "    print(\"The string is not alphanumeric\")\n"
   ]
  },
  {
   "cell_type": "code",
   "execution_count": 24,
   "id": "d97f609a",
   "metadata": {},
   "outputs": [
    {
     "name": "stdout",
     "output_type": "stream",
     "text": [
      "Extracted Digits: 122565\n"
     ]
    }
   ],
   "source": [
    "#Extract all digits from the string\n",
    "def extract_digit(text):\n",
    "    digits = \"\"\n",
    "    for char in text:\n",
    "        if char.isdigit():\n",
    "            digits += char\n",
    "    return digits\n",
    "text= \"Helloo1225world65\"\n",
    "extracted_digits=extract_digit(text)\n",
    "print(f\"Extracted Digits: {extracted_digits}\")"
   ]
  },
  {
   "cell_type": "code",
   "execution_count": 25,
   "id": "836578d8",
   "metadata": {},
   "outputs": [
    {
     "name": "stdout",
     "output_type": "stream",
     "text": [
      "Helloworldwhythis\n"
     ]
    }
   ],
   "source": [
    "#Extract all the Alphabet from a word\n",
    "def extract_aplhabet(input_string):\n",
    "    alphabets= \"\".join([char for char in input_string if char.isalpha()])\n",
    "    return alphabets\n",
    "input_strign=\"Hello123world447whythis\"\n",
    "result= extract_aplhabet(input_strign)\n",
    "print(result)"
   ]
  },
  {
   "cell_type": "code",
   "execution_count": 26,
   "id": "4ef59d88",
   "metadata": {},
   "outputs": [
    {
     "name": "stdout",
     "output_type": "stream",
     "text": [
      "4\n"
     ]
    }
   ],
   "source": [
    "#count the number of uppercase letter in a string\n",
    "def count_upper(input_string):\n",
    "    uppercase_count= sum(1 for char in input_string if char.isupper())\n",
    "    return uppercase_count\n",
    "inp_strp= \"How Do You Doing\"\n",
    "result= count_upper(inp_strp)\n",
    "print(result)"
   ]
  },
  {
   "cell_type": "code",
   "execution_count": 27,
   "id": "43940f96",
   "metadata": {},
   "outputs": [
    {
     "name": "stdout",
     "output_type": "stream",
     "text": [
      "Provide the lower case input to count:\n",
      "0\n"
     ]
    }
   ],
   "source": [
    "#Count the number of lower case in the letter\n",
    "def count_lower(input_string):\n",
    "    lower_count = sum(1 for char in input_string if char.islower())\n",
    "    return lower_count\n",
    "inp_str= input(\"Provide the lower case input to count:\")\n",
    "result= count_lower(inp_str)\n",
    "print(result)"
   ]
  },
  {
   "cell_type": "code",
   "execution_count": 28,
   "id": "d963d3b1",
   "metadata": {},
   "outputs": [
    {
     "name": "stdout",
     "output_type": "stream",
     "text": [
      "wHAT YOU WANT\n"
     ]
    }
   ],
   "source": [
    "#Swap the case of each character in a string\n",
    "def swap_case(input_string):\n",
    "    swapped_string= input_string.swapcase()\n",
    "    return swapped_string\n",
    "input_string= \"What you want\"\n",
    "result= swap_case(input_string)\n",
    "print(result)\n",
    "    "
   ]
  },
  {
   "cell_type": "code",
   "execution_count": 29,
   "id": "0a7402d4",
   "metadata": {},
   "outputs": [
    {
     "name": "stdout",
     "output_type": "stream",
     "text": [
      "Hello lets start practising to perform task\n"
     ]
    }
   ],
   "source": [
    "#Remove Specific word from string\n",
    "def remove_word(input_str,removes_word):\n",
    "    words= input_str.split()\n",
    "    filtered_words= [word for word in words if word != removes_word]\n",
    "    modified_string= \" \".join(filtered_words)\n",
    "    return modified_string\n",
    "input_str= \"Hello lets start practising to perform the task\"\n",
    "removes_word=\"the\"\n",
    "result= remove_word(input_str,removes_word)\n",
    "print(result)\n",
    "    "
   ]
  },
  {
   "cell_type": "code",
   "execution_count": 30,
   "id": "1c0252b7",
   "metadata": {},
   "outputs": [
    {
     "name": "stdout",
     "output_type": "stream",
     "text": [
      "Provide mail to validate: \n",
      "None\n"
     ]
    }
   ],
   "source": [
    "#check if string is a valid email address\n",
    "import re\n",
    "def valid_email(email):\n",
    "    pattern= r'^[\\w\\.-]+@[\\w\\.-]+\\.\\w+$'\n",
    "    if re.match(pattern,email):\n",
    "        return True\n",
    "    else:\n",
    "        False\n",
    "        \n",
    "put_email= input(\"Provide mail to validate: \")\n",
    "result= valid_email(put_email)\n",
    "print(result)"
   ]
  },
  {
   "cell_type": "code",
   "execution_count": 31,
   "id": "9798d03e",
   "metadata": {},
   "outputs": [
    {
     "name": "stdout",
     "output_type": "stream",
     "text": [
      "Give mail to extract the username: \n",
      "\n"
     ]
    }
   ],
   "source": [
    "#Extract the username from emailaddress string\n",
    "def extract_user(email):\n",
    "    username = email.split('@')[0]\n",
    "    return username\n",
    "#\n",
    "put_email= input(\"Give mail to extract the username: \")\n",
    "result= extract_user(put_email)\n",
    "print(result)"
   ]
  },
  {
   "cell_type": "code",
   "execution_count": 32,
   "id": "ac872326",
   "metadata": {},
   "outputs": [
    {
     "name": "stdout",
     "output_type": "stream",
     "text": [
      "Extract domain name: \n"
     ]
    },
    {
     "ename": "IndexError",
     "evalue": "list index out of range",
     "output_type": "error",
     "traceback": [
      "\u001b[1;31m---------------------------------------------------------------------------\u001b[0m",
      "\u001b[1;31mIndexError\u001b[0m                                Traceback (most recent call last)",
      "\u001b[1;32m~\\AppData\\Local\\Temp\\ipykernel_12584\\1177966272.py\u001b[0m in \u001b[0;36m<module>\u001b[1;34m\u001b[0m\n\u001b[0;32m      4\u001b[0m     \u001b[1;32mreturn\u001b[0m \u001b[0mdomain\u001b[0m\u001b[1;33m\u001b[0m\u001b[1;33m\u001b[0m\u001b[0m\n\u001b[0;32m      5\u001b[0m \u001b[0mput_email\u001b[0m\u001b[1;33m=\u001b[0m \u001b[0minput\u001b[0m\u001b[1;33m(\u001b[0m\u001b[1;34m\"Extract domain name: \"\u001b[0m\u001b[1;33m)\u001b[0m\u001b[1;33m\u001b[0m\u001b[1;33m\u001b[0m\u001b[0m\n\u001b[1;32m----> 6\u001b[1;33m \u001b[0mresult\u001b[0m\u001b[1;33m=\u001b[0m \u001b[0mdom\u001b[0m\u001b[1;33m(\u001b[0m\u001b[0mput_email\u001b[0m\u001b[1;33m)\u001b[0m\u001b[1;33m\u001b[0m\u001b[1;33m\u001b[0m\u001b[0m\n\u001b[0m\u001b[0;32m      7\u001b[0m \u001b[0mprint\u001b[0m\u001b[1;33m(\u001b[0m\u001b[0mresult\u001b[0m\u001b[1;33m)\u001b[0m\u001b[1;33m\u001b[0m\u001b[1;33m\u001b[0m\u001b[0m\n",
      "\u001b[1;32m~\\AppData\\Local\\Temp\\ipykernel_12584\\1177966272.py\u001b[0m in \u001b[0;36mdom\u001b[1;34m(email)\u001b[0m\n\u001b[0;32m      1\u001b[0m \u001b[1;31m#Extract domain name from email address\u001b[0m\u001b[1;33m\u001b[0m\u001b[1;33m\u001b[0m\u001b[0m\n\u001b[0;32m      2\u001b[0m \u001b[1;32mdef\u001b[0m \u001b[0mdom\u001b[0m\u001b[1;33m(\u001b[0m\u001b[0memail\u001b[0m\u001b[1;33m)\u001b[0m\u001b[1;33m:\u001b[0m\u001b[1;33m\u001b[0m\u001b[1;33m\u001b[0m\u001b[0m\n\u001b[1;32m----> 3\u001b[1;33m     \u001b[0mdomain\u001b[0m\u001b[1;33m=\u001b[0m \u001b[0memail\u001b[0m\u001b[1;33m.\u001b[0m\u001b[0msplit\u001b[0m\u001b[1;33m(\u001b[0m\u001b[1;34m'@'\u001b[0m\u001b[1;33m)\u001b[0m\u001b[1;33m[\u001b[0m\u001b[1;36m1\u001b[0m\u001b[1;33m]\u001b[0m\u001b[1;33m\u001b[0m\u001b[1;33m\u001b[0m\u001b[0m\n\u001b[0m\u001b[0;32m      4\u001b[0m     \u001b[1;32mreturn\u001b[0m \u001b[0mdomain\u001b[0m\u001b[1;33m\u001b[0m\u001b[1;33m\u001b[0m\u001b[0m\n\u001b[0;32m      5\u001b[0m \u001b[0mput_email\u001b[0m\u001b[1;33m=\u001b[0m \u001b[0minput\u001b[0m\u001b[1;33m(\u001b[0m\u001b[1;34m\"Extract domain name: \"\u001b[0m\u001b[1;33m)\u001b[0m\u001b[1;33m\u001b[0m\u001b[1;33m\u001b[0m\u001b[0m\n",
      "\u001b[1;31mIndexError\u001b[0m: list index out of range"
     ]
    }
   ],
   "source": [
    "#Extract domain name from email address\n",
    "def dom(email):\n",
    "    domain= email.split('@')[1]\n",
    "    return domain\n",
    "put_email= input(\"Extract domain name: \")\n",
    "result= dom(put_email)\n",
    "print(result)"
   ]
  },
  {
   "cell_type": "code",
   "execution_count": 33,
   "id": "2373bb4e",
   "metadata": {},
   "outputs": [
    {
     "name": "stdout",
     "output_type": "stream",
     "text": [
      "Hello to you how you doing\n"
     ]
    }
   ],
   "source": [
    "#Replace multiple space in string wth single space\n",
    "def mul_space(input_string):\n",
    "    cleaned_string= ' '.join(input_string.split())\n",
    "    return cleaned_string\n",
    "inp_str= \"Hello  to you  how you  doing\"\n",
    "result= mul_space(inp_str)\n",
    "print(result)"
   ]
  },
  {
   "cell_type": "code",
   "execution_count": 34,
   "id": "ef19dabd",
   "metadata": {},
   "outputs": [
    {
     "name": "stdout",
     "output_type": "stream",
     "text": [
      "True\n",
      "False\n"
     ]
    }
   ],
   "source": [
    "#check if a string is valid url\n",
    "from urllib.parse import urlparse\n",
    "\n",
    "def is_valid_url(url):\n",
    "    try:\n",
    "        result = urlparse(url)\n",
    "        return all([result.scheme,result.netloc])\n",
    "    except ValueError:\n",
    "        return False\n",
    "    \n",
    "url1 = \"https://www.testing.com\"\n",
    "url2 = \"invalid-url\"\n",
    "result1 = is_valid_url(url1)\n",
    "result2 = is_valid_url(url2)\n",
    "print(result1)  # Should print True\n",
    "print(result2)  # Should print False\n",
    "    "
   ]
  },
  {
   "cell_type": "code",
   "execution_count": 35,
   "id": "bad9d8c9",
   "metadata": {},
   "outputs": [
    {
     "name": "stdout",
     "output_type": "stream",
     "text": [
      "Protocol 1: https\n",
      "Protocol 2: http\n",
      "Protocol 3: ftp\n"
     ]
    }
   ],
   "source": [
    "#Extract the protocol from URL string\n",
    "def extract_protocol(url):\n",
    "    protocol_end= url.find(\"://\")\n",
    "    if protocol_end != -1:\n",
    "        #Extract the protocol from URL\n",
    "        protocol=url[:protocol_end]\n",
    "        return protocol\n",
    "    else:\n",
    "        return None\n",
    "    \n",
    "# Example URL strings\n",
    "url1 = \"https://www.example.com\"\n",
    "url2 = \"http://google.com\"\n",
    "url3 = \"ftp://ftp.example.com\"\n",
    "\n",
    "# Extract protocols\n",
    "protocol1 = extract_protocol(url1)\n",
    "protocol2 = extract_protocol(url2)\n",
    "protocol3 = extract_protocol(url3)\n",
    "\n",
    "# Print extracted protocols\n",
    "print(\"Protocol 1:\", protocol1)\n",
    "print(\"Protocol 2:\", protocol2)\n",
    "print(\"Protocol 3:\", protocol3)\n",
    "    "
   ]
  },
  {
   "cell_type": "code",
   "execution_count": 36,
   "id": "de6850b6",
   "metadata": {},
   "outputs": [
    {
     "name": "stdout",
     "output_type": "stream",
     "text": [
      "From the following url we get: https\n"
     ]
    }
   ],
   "source": [
    "url= \"https://www.example.com\"\n",
    "protocol_end= url.find(\"://\")\n",
    "if protocol_end != 1:\n",
    "    protocol = url[:protocol_end]\n",
    "    print(f\"From the following url we get: {protocol}\")\n",
    "    "
   ]
  },
  {
   "cell_type": "code",
   "execution_count": 37,
   "id": "eb07c0e1",
   "metadata": {},
   "outputs": [
    {
     "name": "stdout",
     "output_type": "stream",
     "text": [
      "Put String you want to count: \n"
     ]
    }
   ],
   "source": [
    "#Find the frequency of each character in a string\n",
    "def char_freq(input_string):\n",
    "    frequency={}\n",
    "    for char in input_string:\n",
    "        if char in frequency:\n",
    "            frequency[char] += 1\n",
    "        else:\n",
    "            frequency[char] = 1\n",
    "    return frequency\n",
    "#put the string you want to count\n",
    "\n",
    "input_string= input(\"Put String you want to count: \")\n",
    "ch_frequency = char_freq(input_string)\n",
    "\n",
    "#printing the char & frequency\n",
    "for char,freq in ch_frequency.items():\n",
    "    print(f\"character:'{char}' & Frequency:'{freq}' \")\n",
    "    "
   ]
  },
  {
   "cell_type": "code",
   "execution_count": 38,
   "id": "88bbe1d3",
   "metadata": {},
   "outputs": [
    {
     "name": "stdout",
     "output_type": "stream",
     "text": [
      "Original_string is:  hello people! how's it going\n",
      "Cleaned_string is:  hello people hows it going\n"
     ]
    }
   ],
   "source": [
    "#Remmove all punctuation from a string\n",
    "import string\n",
    "\n",
    "def remove_punctuation(input_string):\n",
    "    #Create a translation table to remove punctuation \n",
    "    translator=str.maketrans(\"\",\"\",string.punctuation)\n",
    "    clean_string= input_string.translate(translator)\n",
    "    return clean_string\n",
    "#Example string with punctuation\n",
    "input_str= \"hello people! how's it going\"\n",
    "#Remove punctuation\n",
    "cleaned_str= remove_punctuation(input_str)\n",
    "\n",
    "\n",
    "print(\"Original_string is: \",input_str)\n",
    "print(\"Cleaned_string is: \",cleaned_str)"
   ]
  },
  {
   "cell_type": "code",
   "execution_count": 39,
   "id": "a4bf5260",
   "metadata": {},
   "outputs": [
    {
     "name": "stdout",
     "output_type": "stream",
     "text": [
      "Enter if you want to check if the given string contains digit:\n",
      "'' contains only digits: False\n"
     ]
    }
   ],
   "source": [
    "#Check if string contains only digit\n",
    "def only_digit(input_string):\n",
    "    return input_string.isdigit()\n",
    "\n",
    "#example\n",
    "comment= input(\"Enter if you want to check if the given string contains digit:\")\n",
    "result= only_digit(comment)\n",
    "print(f\"'{comment}' contains only digits:\",result)\n"
   ]
  },
  {
   "cell_type": "code",
   "execution_count": 40,
   "id": "d51d7631",
   "metadata": {},
   "outputs": [
    {
     "name": "stdout",
     "output_type": "stream",
     "text": [
      "Enter if you want to check if the given string contains alphabet:\n",
      "'' contains only alphabet: False\n"
     ]
    }
   ],
   "source": [
    "#Check if string contains only alphabets\n",
    "def contains_alphabet(input_string):\n",
    "    return input_string.isalpha()\n",
    "#example\n",
    "comment= input(\"Enter if you want to check if the given string contains alphabet:\")\n",
    "result= contains_alphabet(comment)\n",
    "print(f\"'{comment}' contains only alphabet:\",result)\n"
   ]
  },
  {
   "cell_type": "code",
   "execution_count": 41,
   "id": "f9ab9070",
   "metadata": {},
   "outputs": [
    {
     "name": "stdout",
     "output_type": "stream",
     "text": [
      "Enter the string to convert in list: \n",
      "The original string is:\n",
      "The Conversion into list: []\n"
     ]
    }
   ],
   "source": [
    "#convert a string to list of characters\n",
    "def conv(input_string):\n",
    "    char_list=list(input_string)\n",
    "    return char_list\n",
    "input_str= input(\"Enter the string to convert in list: \")\n",
    "char_list= conv(input_str)\n",
    "print(f\"The original string is:{input_str}\")\n",
    "print(f\"The Conversion into list: {char_list}\")"
   ]
  },
  {
   "cell_type": "code",
   "execution_count": 42,
   "id": "ace651d2",
   "metadata": {},
   "outputs": [
    {
     "name": "stdout",
     "output_type": "stream",
     "text": [
      "Enter string1: \n",
      "Enter string2: \n",
      "'' and '' are anagrams: True\n"
     ]
    }
   ],
   "source": [
    "#check if two strings are anagrams\n",
    "def anagrams(str1,str2):\n",
    "    #Replace the string to lower case\n",
    "    str1= str1.replace(\"\",\"\").lower()\n",
    "    str2= str2.replace(\"\",\"\").lower()\n",
    "    return sorted(str1) == sorted(str2)\n",
    "string1=input(\"Enter string1: \")\n",
    "string2= input(\"Enter string2: \")\n",
    "\n",
    "result=anagrams(string1,string2)\n",
    "\n",
    "print(f\"'{string1}' and '{string2}' are anagrams: {result}\")\n",
    "\n",
    "\n"
   ]
  },
  {
   "cell_type": "code",
   "execution_count": 43,
   "id": "3036d57c",
   "metadata": {},
   "outputs": [
    {
     "name": "stdout",
     "output_type": "stream",
     "text": [
      "Encoded text:  ehoor,zruog\n"
     ]
    }
   ],
   "source": [
    "#Encode a string using Caesar cipher\n",
    "def caesar_cipher(text,shift):\n",
    "    encoded_text=\"\"\n",
    "    for char in text:\n",
    "        if char.isalpha():\n",
    "            encoded_char= chr((ord(char)+ shift-ord('a'))%26 + ord('a'))\n",
    "        else:\n",
    "            encoded_char=char\n",
    "        encoded_text += encoded_char\n",
    "    return encoded_text\n",
    "text= \"Hello,world\"\n",
    "shift=3\n",
    "encoded_text= caesar_cipher(text,shift)\n",
    "print(\"Encoded text: \",encoded_text)"
   ]
  },
  {
   "cell_type": "code",
   "execution_count": 44,
   "id": "a62f5be5",
   "metadata": {},
   "outputs": [
    {
     "name": "stdout",
     "output_type": "stream",
     "text": [
      "Decoded_Text:  illm,wxjmx\n"
     ]
    }
   ],
   "source": [
    "#Decode a Caesar cipher encoded string\n",
    "def caesar_cipher(text,shift):\n",
    "    decoded_text=\"\"\n",
    "    \n",
    "    for char in text:\n",
    "        if char.isalpha():\n",
    "            decoded_char=chr((ord(char)-shift-ord('a'))%26+ord('a'))\n",
    "        else:\n",
    "            decoded_char = char\n",
    "            \n",
    "        decoded_text += decoded_char\n",
    "    return decoded_text\n",
    "\n",
    "text='loop,zampa'\n",
    "shift=3\n",
    "\n",
    "decoded_text= caesar_cipher(text,shift)\n",
    "print(\"Decoded_Text: \",decoded_text)"
   ]
  },
  {
   "cell_type": "code",
   "execution_count": 45,
   "id": "f0f4b171",
   "metadata": {},
   "outputs": [
    {
     "ename": "ImportError",
     "evalue": "cannot import name 'Counter' from 'collection' (C:\\Users\\30086890\\AppData\\Roaming\\Python\\Python39\\site-packages\\collection\\__init__.py)",
     "output_type": "error",
     "traceback": [
      "\u001b[1;31m---------------------------------------------------------------------------\u001b[0m",
      "\u001b[1;31mImportError\u001b[0m                               Traceback (most recent call last)",
      "\u001b[1;32m~\\AppData\\Local\\Temp\\ipykernel_12584\\3156354154.py\u001b[0m in \u001b[0;36m<module>\u001b[1;34m\u001b[0m\n\u001b[0;32m      1\u001b[0m \u001b[1;31m#Find the most frequent word in a string\u001b[0m\u001b[1;33m\u001b[0m\u001b[1;33m\u001b[0m\u001b[0m\n\u001b[0;32m      2\u001b[0m \u001b[1;32mimport\u001b[0m \u001b[0mre\u001b[0m\u001b[1;33m\u001b[0m\u001b[1;33m\u001b[0m\u001b[0m\n\u001b[1;32m----> 3\u001b[1;33m \u001b[1;32mfrom\u001b[0m \u001b[0mcollection\u001b[0m \u001b[1;32mimport\u001b[0m \u001b[0mCounter\u001b[0m\u001b[1;33m\u001b[0m\u001b[1;33m\u001b[0m\u001b[0m\n\u001b[0m\u001b[0;32m      4\u001b[0m \u001b[1;33m\u001b[0m\u001b[0m\n\u001b[0;32m      5\u001b[0m \u001b[1;32mdef\u001b[0m \u001b[0mmost_fre_word\u001b[0m\u001b[1;33m(\u001b[0m\u001b[0minput_string\u001b[0m\u001b[1;33m)\u001b[0m\u001b[1;33m:\u001b[0m\u001b[1;33m\u001b[0m\u001b[1;33m\u001b[0m\u001b[0m\n",
      "\u001b[1;31mImportError\u001b[0m: cannot import name 'Counter' from 'collection' (C:\\Users\\30086890\\AppData\\Roaming\\Python\\Python39\\site-packages\\collection\\__init__.py)"
     ]
    }
   ],
   "source": [
    "#Find the most frequent word in a string\n",
    "import re\n",
    "from collection import Counter\n",
    "\n",
    "def most_fre_word(input_string):\n",
    "    clean_string= re.sub(r'[^\\w\\s]','',input_string).lower()\n",
    "    words= clean_string.split()\n",
    "    words_counter= Counter(words)\n",
    "    \n",
    "    most_common_word= word_counter.most_common(1)[0][0]\n",
    "    \n",
    "    return most_common_word\n",
    "input_str=\"Hello world,hello there! how's the world\"\n",
    "most_common= most_fre_word(input_str)\n",
    "\n",
    "print(\"Most frequent word:\",most_common)"
   ]
  },
  {
   "cell_type": "code",
   "execution_count": 46,
   "id": "508057b0",
   "metadata": {},
   "outputs": [
    {
     "name": "stdout",
     "output_type": "stream",
     "text": [
      "{'is', 'words', 'sample', 'find', 'This', 'to', 'unique'}\n"
     ]
    }
   ],
   "source": [
    "#Find all unique words in string\n",
    "\n",
    "def find_unique_word(string):\n",
    "    words=string.split()\n",
    "    unique_words=set()\n",
    "    for word in words:\n",
    "        unique_words.add(word)\n",
    "    return unique_words\n",
    "string=\"This is sample to find unique words\"\n",
    "unique_words=find_unique_word(string)\n",
    "print(unique_words)"
   ]
  },
  {
   "cell_type": "code",
   "execution_count": 47,
   "id": "6352a7bb",
   "metadata": {},
   "outputs": [
    {
     "name": "stdout",
     "output_type": "stream",
     "text": [
      " 'catch me if you can' has 5 Syllables.\n"
     ]
    }
   ],
   "source": [
    "#Count the number of syllables in a string \n",
    "\n",
    "import re\n",
    "\n",
    "def count_syllables(word):\n",
    "    vowel_groups= re.findall(r'[aeiouy]+',word,re.IGNORECASE)\n",
    "    return len(vowel_groups)\n",
    "word=\"catch me if you can\"\n",
    "syllables= count_syllables(word)\n",
    "print(f\" '{word}' has {syllables} Syllables.\")"
   ]
  },
  {
   "cell_type": "code",
   "execution_count": 48,
   "id": "7ecdf294",
   "metadata": {},
   "outputs": [
    {
     "name": "stdout",
     "output_type": "stream",
     "text": [
      " 'hello @You!' contains True special characters\n"
     ]
    }
   ],
   "source": [
    "#check if a string contains any special charcters.\n",
    "import re\n",
    "def contains_char(input_string):\n",
    "    pattern= re.compile(r'[!@#$%^&*()_+{}\\[\\]:;<>,.?~\\\\/]')\n",
    "    #using the search method to find a match\n",
    "    match= pattern.search(input_string)\n",
    "    return bool(match)\n",
    "\n",
    "string1=\"hello @You!\"\n",
    "\n",
    "#Check if the string have perfect match\n",
    "result1=contains_char(string1)\n",
    "\n",
    "print(f\" '{string1}' contains {result1} special characters\")\n",
    "    "
   ]
  },
  {
   "cell_type": "code",
   "execution_count": 49,
   "id": "9b8d06ac",
   "metadata": {},
   "outputs": [
    {
     "name": "stdout",
     "output_type": "stream",
     "text": [
      "Original_string: learning through the phase would be the most obvious choice of everyone\n",
      "Modified string: through\n",
      "Removed word: learning the phase would be the most obvious choice of everyone\n"
     ]
    }
   ],
   "source": [
    "#Remove the nth word from a string\n",
    "def remove_word(input_string,n):\n",
    "    words= input_string.split()\n",
    "    #check if it is in valid range\n",
    "    if n>=1 and n<=len(words):\n",
    "        #Remove the nth word by excluding it from the word list\n",
    "        removed_word= words.pop(n-1)\n",
    "        #join the remaining words \n",
    "        modifed_string= ' '.join(words)\n",
    "        return removed_word , modifed_string\n",
    "    else:\n",
    "        return  None, None\n",
    "\n",
    "#Putting an example\n",
    "input_str= \"learning through the phase would be the most obvious choice of everyone\"\n",
    "n_value=2\n",
    "# Remove the nth word\n",
    "modified_string,removed_string = remove_word(input_str,n_value)\n",
    "\n",
    "print(\"Original_string:\", input_str)\n",
    "if modified_string is not None:\n",
    "    print(\"Modified string:\",modified_string)\n",
    "    print(\"Removed word:\", removed_string)\n",
    "else:\n",
    "    print(\"Invalid Value\")"
   ]
  },
  {
   "cell_type": "code",
   "execution_count": 50,
   "id": "1fc1d437",
   "metadata": {},
   "outputs": [
    {
     "name": "stdout",
     "output_type": "stream",
     "text": [
      "This is the sample string.\n"
     ]
    }
   ],
   "source": [
    "#insert a word at nt position in a string\n",
    "def insert_word_at_nth_position(string, word, n):\n",
    "\n",
    "\n",
    "  if n < 0:\n",
    "    return string\n",
    "  if n > len(string):\n",
    "    return string + word\n",
    "  return string[:n] + word + string[n+1:]\n",
    "\n",
    "# Example usage:\n",
    "\n",
    "string = \"This is sample string.\"\n",
    "words = string.split()\n",
    "\n",
    "# Insert the word \"the\" at the 2nd position.\n",
    "words.insert(2, \"the\")\n",
    "\n",
    "# Join the words back into a string.\n",
    "new_string = \" \".join(words)\n",
    "\n",
    "print(new_string)\n",
    "\n",
    "\n",
    " "
   ]
  },
  {
   "cell_type": "code",
   "execution_count": 51,
   "id": "2be85bad",
   "metadata": {},
   "outputs": [
    {
     "name": "stdout",
     "output_type": "stream",
     "text": [
      "['Name', ' Age', ' Country']\n",
      "['Raj', ' 25', ' Delhi']\n",
      "['Ravi', ' 28', ' Goa']\n",
      "['Meet', '31', 'Gujarat ']\n"
     ]
    }
   ],
   "source": [
    "#convert a csv string to a list of lists.\n",
    "def csv_string_list(csv_string):\n",
    "    lines= csv_string.split(\"\\n\")\n",
    "    result=[]\n",
    "    \n",
    "    for line in lines:\n",
    "        fields=line.split(',')\n",
    "        \n",
    "        result.append(fields)\n",
    "    return result\n",
    "\n",
    "csv_data= \"Name, Age, Country\\nRaj, 25, Delhi\\nRavi, 28, Goa\\nMeet,31,Gujarat \"\n",
    "\n",
    "list_of_lists = csv_string_list(csv_data)\n",
    "#Print the result to access it we need to use for loop\n",
    "for row in list_of_lists:\n",
    "    print(row)"
   ]
  },
  {
   "cell_type": "markdown",
   "id": "75f3e9d2",
   "metadata": {},
   "source": [
    "# List Based Practice Problem"
   ]
  },
  {
   "cell_type": "code",
   "execution_count": 52,
   "id": "275cea0a",
   "metadata": {},
   "outputs": [
    {
     "name": "stdout",
     "output_type": "stream",
     "text": [
      "[1, 2, 3, 4, 5, 6, 7, 8, 9, 10]\n"
     ]
    }
   ],
   "source": [
    "#create a list with integers from 1 to 10\n",
    "int_list= [i for i in range(1,11)]\n",
    "print(int_list)"
   ]
  },
  {
   "cell_type": "code",
   "execution_count": 53,
   "id": "85cde67b",
   "metadata": {},
   "outputs": [
    {
     "name": "stdout",
     "output_type": "stream",
     "text": [
      "length of the list: 5\n"
     ]
    }
   ],
   "source": [
    "#Find the length of a list without using the len() function\n",
    "def custom_len(input_list):\n",
    "    count=0\n",
    "    for k in input_list:\n",
    "        count +=1\n",
    "    return count\n",
    "\n",
    "my_list =[10,20,30,40,55]\n",
    "\n",
    "length= custom_len(my_list)\n",
    "\n",
    "print(\"length of the list:\",length)"
   ]
  },
  {
   "cell_type": "code",
   "execution_count": 54,
   "id": "2d129b25",
   "metadata": {},
   "outputs": [],
   "source": [
    "# s = \"Name, Age, Country\\nJohn, 25, USA\\nAlice, 30, Canada\\nBob, 22, UK\"\n",
    "# lines= s.split(\"\\n\")\n",
    "# lst=[]\n",
    "\n",
    "# for line in lines:\n",
    "#     field= line.split(\",\")\n",
    "#     lst.append(field)\n",
    "    \n",
    "# for row in lst:\n",
    "#     print(row)"
   ]
  },
  {
   "cell_type": "code",
   "execution_count": 55,
   "id": "5dee66c1",
   "metadata": {},
   "outputs": [
    {
     "name": "stdout",
     "output_type": "stream",
     "text": [
      "The Updated List is: [88, 47, 55, 21, 79]\n"
     ]
    }
   ],
   "source": [
    "#Append element to end of list\n",
    "\n",
    "my_lst=[88,47,55,21]\n",
    "\n",
    "\n",
    "new_ele=79\n",
    "#Index\n",
    "index_insert = 4\n",
    "\n",
    "#insert the new element\n",
    "my_lst.insert(index_insert,new_ele)\n",
    "print(f\"The Updated List is: {my_lst}\")"
   ]
  },
  {
   "cell_type": "code",
   "execution_count": 56,
   "id": "a793a5d8",
   "metadata": {},
   "outputs": [
    {
     "name": "stdout",
     "output_type": "stream",
     "text": [
      "Updated list: [11, 20, 30, 88]\n"
     ]
    }
   ],
   "source": [
    "#Remove an element from a list by it values\n",
    "my_list = [11, 20, 30, 48, 88]\n",
    "\n",
    "# Element to remove\n",
    "element_to_remove = 48\n",
    "\n",
    "# Remove the element by its value\n",
    "my_list.remove(element_to_remove)\n",
    "\n",
    "# Print the updated list\n",
    "print(\"Updated list:\", my_list)"
   ]
  },
  {
   "cell_type": "code",
   "execution_count": 57,
   "id": "088a62e6",
   "metadata": {},
   "outputs": [
    {
     "name": "stdout",
     "output_type": "stream",
     "text": [
      "Updated list: [10, 20, 40, 50]\n",
      "Removed element: 30\n"
     ]
    }
   ],
   "source": [
    "#Remove an element from a list by its index\n",
    "my_list = [10, 20, 30, 40, 50]\n",
    "\n",
    "# Index of the element to remove\n",
    "index_to_remove = 2\n",
    "\n",
    "# Remove the element at the specified index\n",
    "removed_element = my_list.pop(index_to_remove)\n",
    "\n",
    "# Print the updated list and the removed element\n",
    "print(\"Updated list:\", my_list)\n",
    "print(\"Removed element:\", removed_element)"
   ]
  },
  {
   "cell_type": "code",
   "execution_count": 58,
   "id": "1ec817f8",
   "metadata": {},
   "outputs": [
    {
     "name": "stdout",
     "output_type": "stream",
     "text": [
      " '22' is present in [33, 45, 96, 77, 22, 20, 33] list.\n"
     ]
    }
   ],
   "source": [
    "#Check if an element exists in a list\n",
    "my_list= [33,45,96,77,22,20,33]\n",
    "\n",
    "element_to_check=22\n",
    "\n",
    "if element_to_check in my_list:\n",
    "    print(f\" '{element_to_check}' is present in {my_list} list.\")\n",
    "else:\n",
    "    print(f\"{elements_to_check} is not present in a list\")"
   ]
  },
  {
   "cell_type": "code",
   "execution_count": 59,
   "id": "50288501",
   "metadata": {},
   "outputs": [
    {
     "name": "stdout",
     "output_type": "stream",
     "text": [
      "The index of 56 is 1\n"
     ]
    }
   ],
   "source": [
    "#find the index of the first occurence\n",
    "my_list=[78,56,22,39,44,20]\n",
    "\n",
    "elements_to_find=56\n",
    "index= my_list.index(elements_to_find)\n",
    "\n",
    "print(f\"The index of {elements_to_find} is {index}\")"
   ]
  },
  {
   "cell_type": "code",
   "execution_count": 60,
   "id": "6dd8d5eb",
   "metadata": {},
   "outputs": [
    {
     "name": "stdout",
     "output_type": "stream",
     "text": [
      "The element 30 occurs 3 times in the list.\n"
     ]
    }
   ],
   "source": [
    "#count of occurence of element\n",
    "my_list=[10,55,30,45,66,68,80,30,99,30]\n",
    "elements_to_count=30\n",
    "\n",
    "count= my_list.count(elements_to_count)\n",
    "\n",
    "# Print the count\n",
    "print(f\"The element {elements_to_count} occurs {count} times in the list.\")"
   ]
  },
  {
   "cell_type": "code",
   "execution_count": 61,
   "id": "a0101f5b",
   "metadata": {},
   "outputs": [
    {
     "name": "stdout",
     "output_type": "stream",
     "text": [
      "The Original list is: [78, 56, 22, 39, 44, 20]\n",
      "The reversed list is: [20, 44, 39, 22, 56, 78]\n"
     ]
    }
   ],
   "source": [
    "#Reverse the order of Element in list\n",
    "my_list=[78,56,22,39,44,20]\n",
    "print(f\"The Original list is: {my_list}\")\n",
    "\n",
    "my_list.reverse()\n",
    "print(f\"The reversed list is: {my_list}\")"
   ]
  },
  {
   "cell_type": "code",
   "execution_count": 62,
   "id": "9dc4cd4e",
   "metadata": {},
   "outputs": [
    {
     "name": "stdout",
     "output_type": "stream",
     "text": [
      "The Sorted List is: [20, 22, 39, 44, 56, 78]\n"
     ]
    }
   ],
   "source": [
    "#Sort a list in ascending order\n",
    "my_list=[78,56,22,39,44,20]\n",
    "my_list.sort()\n",
    "print(f\"The Sorted List is: {my_list}\")"
   ]
  },
  {
   "cell_type": "code",
   "execution_count": 63,
   "id": "a01eee48",
   "metadata": {},
   "outputs": [
    {
     "name": "stdout",
     "output_type": "stream",
     "text": [
      "The Sorted List is: [78, 56, 44, 39, 22, 20]\n"
     ]
    }
   ],
   "source": [
    "#Sort a list in descending order\n",
    "my_list=[78,56,22,39,44,20]\n",
    "my_list.sort(reverse=True)\n",
    "print(f\"The Sorted List is: {my_list}\")"
   ]
  },
  {
   "cell_type": "code",
   "execution_count": 64,
   "id": "86a980f6",
   "metadata": {},
   "outputs": [
    {
     "name": "stdout",
     "output_type": "stream",
     "text": [
      "[2, 4, 6, 8, 10, 12, 14, 16, 18, 20]\n"
     ]
    }
   ],
   "source": [
    "#Create a list of Even numbers from 1 to 20\n",
    "\n",
    "even_number= [x for x in range(2,21) if x%2==0]\n",
    "print(even_number)"
   ]
  },
  {
   "cell_type": "code",
   "execution_count": 65,
   "id": "8f8c6630",
   "metadata": {},
   "outputs": [
    {
     "name": "stdout",
     "output_type": "stream",
     "text": [
      "[1, 3, 5, 7, 9, 11, 13, 15, 17, 19]\n"
     ]
    }
   ],
   "source": [
    "#create a list of odd numbers from 1 to 20\n",
    "odd_number= [x for x in range (0,21) if x%2 != 0]\n",
    "print(odd_number)"
   ]
  },
  {
   "cell_type": "code",
   "execution_count": 66,
   "id": "be5d6592",
   "metadata": {},
   "outputs": [
    {
     "name": "stdout",
     "output_type": "stream",
     "text": [
      "The Summation List is: '259' \n"
     ]
    }
   ],
   "source": [
    "#find the sum of all elements\n",
    "\n",
    "my_list=[78,56,22,39,44,20]\n",
    "total_sum= sum(my_list)\n",
    "print(f\"The Summation List is: '{total_sum}' \")"
   ]
  },
  {
   "cell_type": "code",
   "execution_count": 67,
   "id": "e066033e",
   "metadata": {},
   "outputs": [
    {
     "name": "stdout",
     "output_type": "stream",
     "text": [
      "The max element of the list is 78\n"
     ]
    }
   ],
   "source": [
    "#find a max elements of a list\n",
    "my_list=[78,56,22,39,44,20]\n",
    "max_value= max(my_list)\n",
    "print(f\"The max element of the list is {max_value}\")"
   ]
  },
  {
   "cell_type": "code",
   "execution_count": 68,
   "id": "f200021a",
   "metadata": {},
   "outputs": [
    {
     "name": "stdout",
     "output_type": "stream",
     "text": [
      "The min element of the list is 20\n"
     ]
    }
   ],
   "source": [
    "#Find the Minimum value in a list\n",
    "my_list=[78,56,22,39,44,20]\n",
    "min_value= min(my_list)\n",
    "print(f\"The min element of the list is {min_value}\")"
   ]
  },
  {
   "cell_type": "code",
   "execution_count": 69,
   "id": "e1d76172",
   "metadata": {},
   "outputs": [
    {
     "name": "stdout",
     "output_type": "stream",
     "text": [
      "The list of squares for the range is:\n",
      "[1, 4, 9, 16, 25, 36, 49, 64, 81, 100]\n"
     ]
    }
   ],
   "source": [
    "#create a li list of squares of number from 1 to 10\n",
    "squares= [x**2 for x in range(1,11)]\n",
    "print(f\"The list of squares for the range is:\\n{squares}\")"
   ]
  },
  {
   "cell_type": "code",
   "execution_count": 70,
   "id": "f4326540",
   "metadata": {},
   "outputs": [
    {
     "name": "stdout",
     "output_type": "stream",
     "text": [
      "The List of random integers: \n",
      "[49, 72, 83, 97, 45, 93, 23, 3, 41, 39]\n"
     ]
    }
   ],
   "source": [
    "#create a list of random numbers\n",
    "import random\n",
    "random_integers= [random.randint(1,100) for i in range(10)]\n",
    "\n",
    "print(f\"The List of random integers: \\n{random_integers}\")"
   ]
  },
  {
   "cell_type": "code",
   "execution_count": 71,
   "id": "55589575",
   "metadata": {},
   "outputs": [
    {
     "name": "stdout",
     "output_type": "stream",
     "text": [
      "Unique List are:\n",
      "[66, 39, 44, 45, 78, 20, 22, 56]\n"
     ]
    }
   ],
   "source": [
    "#Remove duplicates from a list\n",
    "my_list=[78,56,22,39,44,20,45,66,22,56,22]\n",
    "\n",
    "unique_list= list(set(my_list))\n",
    "\n",
    "print(f\"Unique List are:\\n{unique_list}\")"
   ]
  },
  {
   "cell_type": "code",
   "execution_count": 72,
   "id": "2c8e8c81",
   "metadata": {},
   "outputs": [
    {
     "name": "stdout",
     "output_type": "stream",
     "text": [
      "[3, 5]\n"
     ]
    }
   ],
   "source": [
    "#Find the common elements between two list\n",
    "list1 = [1, 2, 3, 4, 5]\n",
    "list2 = [3, 5, 7, 9]\n",
    "\n",
    "# Find the common elements by checking if each element in `list1` is in `list2`\n",
    "#common_elements = [element for element in list1 if element in list2]\n",
    "\n",
    "common_elements= [element for element in list1 if element in list2]\n",
    "print(common_elements)"
   ]
  },
  {
   "cell_type": "code",
   "execution_count": 73,
   "id": "1fe249a5",
   "metadata": {},
   "outputs": [
    {
     "name": "stdout",
     "output_type": "stream",
     "text": [
      "The Difference between the two list is: [1, 2, 4]\n"
     ]
    }
   ],
   "source": [
    "#Find the difference between two list\n",
    "\n",
    "list1 = [1, 2, 3, 4, 5]\n",
    "list2 = [3, 5, 7, 9]\n",
    "\n",
    "difference= list(set(list1).difference(list2))\n",
    "\n",
    "print(f\"The Difference between the two list is: {difference}\")\n"
   ]
  },
  {
   "cell_type": "code",
   "execution_count": 74,
   "id": "42cc4816",
   "metadata": {},
   "outputs": [
    {
     "name": "stdout",
     "output_type": "stream",
     "text": [
      "The Merged List is: [1, 2, 3, 4, 5, 3, 5, 7, 9]\n"
     ]
    }
   ],
   "source": [
    "#Merge the Two List\n",
    "list1 = [1, 2, 3, 4, 5]\n",
    "list2 = [3, 5, 7, 9]\n",
    "\n",
    "merged_list= list1+list2\n",
    "\n",
    "print(f\"The Merged List is: {merged_list}\")"
   ]
  },
  {
   "cell_type": "code",
   "execution_count": 75,
   "id": "73739493",
   "metadata": {},
   "outputs": [
    {
     "name": "stdout",
     "output_type": "stream",
     "text": [
      "The Multiplied List is: [2, 4, 6, 8, 10]\n"
     ]
    }
   ],
   "source": [
    "#Multiply all elements in a list by 2\n",
    "list1 = [1, 2, 3, 4, 5]\n",
    "multiplied_list = [x*2 for x in list1]\n",
    "\n",
    "print(f\"The Multiplied List is: {multiplied_list}\")"
   ]
  },
  {
   "cell_type": "code",
   "execution_count": 76,
   "id": "4d7f46a8",
   "metadata": {},
   "outputs": [
    {
     "name": "stdout",
     "output_type": "stream",
     "text": [
      "The Even number list is: [2, 4]\n"
     ]
    }
   ],
   "source": [
    "#Filter out all the even number fro a list\n",
    "list1 = [1, 2, 3, 4, 5]\n",
    "even_nos= [x for x in list1 if x%2==0]\n",
    "\n",
    "print(f\"The Even number list is: {even_nos}\")"
   ]
  },
  {
   "cell_type": "code",
   "execution_count": 77,
   "id": "77a31fe6",
   "metadata": {},
   "outputs": [
    {
     "name": "stdout",
     "output_type": "stream",
     "text": [
      "The conversion for the following is:[10, 20, 30, 40, 50]\n"
     ]
    }
   ],
   "source": [
    "#Convert a list of string to a list of integers\n",
    "\n",
    "# Example list of strings\n",
    "string_list = [\"10\", \"20\", \"30\", \"40\", \"50\"]\n",
    "conversion_list= [int(x) for x in string_list]\n",
    "\n",
    "print(f\"The conversion for the following is:{conversion_list}\")"
   ]
  },
  {
   "cell_type": "code",
   "execution_count": 78,
   "id": "b738a19c",
   "metadata": {},
   "outputs": [
    {
     "name": "stdout",
     "output_type": "stream",
     "text": [
      "List to String conversion is:['10', '20', '30', '40', '50']\n"
     ]
    }
   ],
   "source": [
    "# Convert a list of integers to a list of strings.\n",
    "integer_list= [10, 20, 30, 40, 50]\n",
    "conv_str = [str(x) for x in integer_list]\n",
    "\n",
    "print(f\"List to String conversion is:{conv_str}\")"
   ]
  },
  {
   "cell_type": "code",
   "execution_count": 79,
   "id": "eb76a96b",
   "metadata": {},
   "outputs": [
    {
     "name": "stdout",
     "output_type": "stream",
     "text": [
      "flattened List is:  [1, 2, 3, 3, 4, 5, 6, 7, 8, 9]\n"
     ]
    }
   ],
   "source": [
    "#Flatten a nested list\n",
    "nested_list = [[1, 2, 3], [3,4, 5], [6, 7, 8, 9]]\n",
    "def flaten_list(nested):\n",
    "    flattened=[]\n",
    "    for sublist in nested:\n",
    "        if isinstance(sublist,list):\n",
    "            flattened.extend(flaten_list(sublist))\n",
    "        else:\n",
    "            flattened.append(sublist)\n",
    "    return flattened\n",
    "flattened_list=flaten_list(nested_list)\n",
    "print(\"flattened List is: \",flattened_list)"
   ]
  },
  {
   "cell_type": "code",
   "execution_count": 80,
   "id": "d95ab0db",
   "metadata": {},
   "outputs": [],
   "source": [
    "#Create a list of first 10 fibonacci numbers\n",
    "# def generate_fib(n):\n",
    "#     fibonacci_list= [0,1]\n",
    "    \n",
    "#     for i in range(2,n):\n",
    "#         next_fibonacci= fibonacci_list[i-1] + fibonacci_list[i-2]\n",
    "#         fibonacci_list.apppend(next_fibonacci)\n",
    "#     return fibonacci_list\n",
    "\n",
    "# #Generate the first 10 fibonacci numbers\n",
    "# fibonacci_numbers= generate_fib(2)\n",
    "\n",
    "# print(\"First 10 Fibonacci numbers: \",fibonacci_numbers)"
   ]
  },
  {
   "cell_type": "code",
   "execution_count": 81,
   "id": "f8d26322",
   "metadata": {},
   "outputs": [
    {
     "name": "stdout",
     "output_type": "stream",
     "text": [
      "[0, 1, 1, 2, 3, 5, 8, 13, 21, 34]\n"
     ]
    }
   ],
   "source": [
    "def fibonacci(n):\n",
    "    if n == 0:\n",
    "        return 0\n",
    "    elif n == 1:\n",
    "        return 1\n",
    "    else:\n",
    "        return fibonacci(n - 1) + fibonacci(n - 2)\n",
    "\n",
    "# Find the first 10 Fibonacci numbers\n",
    "fib_list = []\n",
    "for i in range(10):\n",
    "    fib_list.append(fibonacci(i))\n",
    "\n",
    "print(fib_list)"
   ]
  },
  {
   "cell_type": "code",
   "execution_count": 82,
   "id": "8730b485",
   "metadata": {},
   "outputs": [
    {
     "name": "stdout",
     "output_type": "stream",
     "text": [
      "The list is not sorted in ascending order.\n"
     ]
    }
   ],
   "source": [
    "#Check if a list is sorted in ascending order\n",
    "def is_sorted_asc(lst):\n",
    "    for i in range(1, len(lst)):\n",
    "        if lst[i] <lst[i-1]:\n",
    "            return False\n",
    "    return True\n",
    "ascending_list=[10,80,30,40,50,70]\n",
    "\n",
    "if is_sorted_asc(ascending_list):\n",
    "        print(\"The list is sorted in ascending order.\")\n",
    "else:\n",
    "    print(\"The list is not sorted in ascending order.\")\n",
    "    \n",
    "\n"
   ]
  },
  {
   "cell_type": "code",
   "execution_count": 83,
   "id": "04b107e2",
   "metadata": {},
   "outputs": [
    {
     "name": "stdout",
     "output_type": "stream",
     "text": [
      "Rotated list: [5, 6, 1, 2, 3, 4]\n"
     ]
    }
   ],
   "source": [
    "# Function to rotate a list to the right by n positions\n",
    "def rotate_right(lst, n):\n",
    "    n = n % len(lst)  # Normalize n to handle cases where n is larger than the list length\n",
    "    # print(n)\n",
    "    rotated = lst[-n:] + lst[:-n]\n",
    "    return rotated\n",
    "\n",
    "# Example list\n",
    "my_list = [1, 2, 3, 4, 5, 6]\n",
    "\n",
    "# Number of positions to rotate by\n",
    "n = 2\n",
    "\n",
    "# Rotate the list to the right by n positions\n",
    "rotated_list = rotate_right(my_list, n)\n",
    "\n",
    "# Print the rotated list\n",
    "print(\"Rotated list:\", rotated_list)"
   ]
  },
  {
   "cell_type": "code",
   "execution_count": 84,
   "id": "2a758d12",
   "metadata": {},
   "outputs": [
    {
     "name": "stdout",
     "output_type": "stream",
     "text": [
      "5 25\n",
      "5 29\n",
      "List of prime numbers up to 50: [2, 3, 5, 7, 11, 13, 17, 19, 23, 29]\n"
     ]
    }
   ],
   "source": [
    "#create a list of prime numbers up to 50\n",
    "# Function to check if a number is prime\n",
    "def is_prime(num):\n",
    "    if num <= 1:\n",
    "        return False\n",
    "    if num <= 3:\n",
    "        return True\n",
    "    if num % 2 == 0 or num % 3 == 0:\n",
    "        return False\n",
    "    i = 5\n",
    "    while i * i <= num:\n",
    "      print(i,num)\n",
    "      if num % i == 0 or num % (i + 2) == 0:\n",
    "          return False\n",
    "      i += 6\n",
    "    return True\n",
    "\n",
    "# Create a list of prime numbers up to 50\n",
    "prime_numbers = [num for num in range(2,30) if is_prime(num)]\n",
    "\n",
    "# Print the list of prime numbers\n",
    "print(\"List of prime numbers up to 50:\", prime_numbers)"
   ]
  },
  {
   "cell_type": "code",
   "execution_count": 85,
   "id": "329860fb",
   "metadata": {},
   "outputs": [
    {
     "name": "stdout",
     "output_type": "stream",
     "text": [
      "Prime numbers up to 50: [2, 3, 5, 7, 11, 13, 17, 19, 23, 29, 31, 37, 41, 43, 47]\n"
     ]
    }
   ],
   "source": [
    "def is_prime(n):\n",
    "    if n<=1 :\n",
    "        return False\n",
    "    for i in range(2, int(n**0.5)+1):\n",
    "        if n%i ==0:\n",
    "            return False\n",
    "    return True\n",
    "potential_primes = range(2,51)\n",
    "# Filter the list to only include actual prime numbers.\n",
    "prime_numbers = [n for n in potential_primes if is_prime(n)]\n",
    "\n",
    "# Print the list of prime numbers.\n",
    "print(f\"Prime numbers up to 50: {prime_numbers}\")\n"
   ]
  },
  {
   "cell_type": "code",
   "execution_count": 86,
   "id": "94a33460",
   "metadata": {},
   "outputs": [
    {
     "name": "stdout",
     "output_type": "stream",
     "text": [
      "Orignal List:[1, 2, 3, 4, 5, 6, 7, 8, 9]\n",
      "Chunked list is:[[1, 2, 3], [4, 5, 6], [7, 8, 9]]\n"
     ]
    }
   ],
   "source": [
    "# Split a list into chunks of size n\n",
    "def split_list(data, chunk_size):\n",
    "    chunks=[]\n",
    "    for i in range(0, len(data),chunk_size):\n",
    "        chunks.append(data[i:i+chunk_size])\n",
    "    return chunks\n",
    "\n",
    "data=[1, 2, 3, 4, 5, 6, 7, 8, 9]\n",
    "chunk_size= 3\n",
    "\n",
    "chunks= split_list(data,chunk_size)\n",
    "\n",
    "print(f\"Orignal List:{data}\")\n",
    "print(f\"Chunked list is:{chunks}\")\n",
    "    \n"
   ]
  },
  {
   "cell_type": "code",
   "execution_count": 87,
   "id": "4a8d6c2c",
   "metadata": {},
   "outputs": [
    {
     "name": "stdout",
     "output_type": "stream",
     "text": [
      "[[1, 2, 3], [4, 5, 6], [7, 8, 9]]\n"
     ]
    }
   ],
   "source": [
    "data=[1, 2, 3, 4, 5, 6, 7, 8, 9]\n",
    "chunk_size= 3\n",
    "chunks= []\n",
    "for i in range (0,len(data),chunk_size):\n",
    "    chunks.append(data[i:i+chunk_size])\n",
    "print(chunks)\n",
    "#     print(i)"
   ]
  },
  {
   "cell_type": "code",
   "execution_count": 88,
   "id": "55fa9c24",
   "metadata": {},
   "outputs": [
    {
     "name": "stdout",
     "output_type": "stream",
     "text": [
      "39\n"
     ]
    }
   ],
   "source": [
    "#Find the second largest number into the list\n",
    "def sec_largest(data):\n",
    "    if len(data)<2:\n",
    "        return None\n",
    "    data_sorted= sorted(data)\n",
    "    return data_sorted[-2]\n",
    "\n",
    "# Example usage\n",
    "data = [5, 7, 2, 8, 39, 144]\n",
    "second_largest = sec_largest(data)\n",
    "print(second_largest)"
   ]
  },
  {
   "cell_type": "code",
   "execution_count": 89,
   "id": "a9f2dd20",
   "metadata": {},
   "outputs": [
    {
     "name": "stdout",
     "output_type": "stream",
     "text": [
      "[4, 16, 36, 64, 100]\n"
     ]
    }
   ],
   "source": [
    "#Replace Every Element in a list with its Square\n",
    "my_list = [2,4,6,8,10]\n",
    "squared_list= [x**2 for x in my_list]\n",
    "print(squared_list)"
   ]
  },
  {
   "cell_type": "code",
   "execution_count": 90,
   "id": "d38c7322",
   "metadata": {},
   "outputs": [
    {
     "name": "stdout",
     "output_type": "stream",
     "text": [
      "converted_dict:  {'apple': 0, 'banana': 1, 'cherry': 2, 'date': 3, 'elderberry': 4}\n"
     ]
    }
   ],
   "source": [
    "#Convert a list to a dict where list elements become keys and their indices become values.\n",
    "my_list = ['apple', 'banana', 'cherry', 'date', 'elderberry']\n",
    "my_dict = {element: index for index, element in enumerate(my_list)}\n",
    "\n",
    "print(\"converted_dict: \",my_dict)"
   ]
  },
  {
   "cell_type": "code",
   "execution_count": 91,
   "id": "4be35d8c",
   "metadata": {},
   "outputs": [
    {
     "name": "stdout",
     "output_type": "stream",
     "text": [
      "[(0, 'apple'), (1, 'banana'), (2, 'cherry'), (3, 'date'), (4, 'elderberry')]\n"
     ]
    }
   ],
   "source": [
    "my_list = ['apple', 'banana', 'cherry', 'date', 'elderberry']\n",
    "my = (list(enumerate(my_list)))\n",
    "print(my)"
   ]
  },
  {
   "cell_type": "code",
   "execution_count": 92,
   "id": "ef089151",
   "metadata": {},
   "outputs": [
    {
     "name": "stdout",
     "output_type": "stream",
     "text": [
      "Shuffeled_List:  [3, 1, 5, 6, 4, 9, 10, 2, 7, 8]\n"
     ]
    }
   ],
   "source": [
    "#shuffle the elements of a list randomly\n",
    "import random\n",
    "my_list = [1, 2, 3, 4, 5, 6, 7, 8, 9, 10]\n",
    "\n",
    "random.shuffle(my_list)\n",
    "print(\"Shuffeled_List: \",my_list)\n"
   ]
  },
  {
   "cell_type": "code",
   "execution_count": 93,
   "id": "219bfac0",
   "metadata": {},
   "outputs": [
    {
     "name": "stdout",
     "output_type": "stream",
     "text": [
      "List of 10 factorrial numbers: [1, 1, 2, 6, 24, 120, 720, 5040, 40320, 362880]\n"
     ]
    }
   ],
   "source": [
    "#Create a list of first 10 factorial number\n",
    "\n",
    "def factorial(n):\n",
    "    if n==0 or n==1:\n",
    "        return 1\n",
    "    else:\n",
    "        return n* factorial(n-1)\n",
    "    \n",
    "factorial_numbers = [factorial(i)for i in range (10)]\n",
    "print(f'List of 10 factorrial numbers: {factorial_numbers}')"
   ]
  },
  {
   "cell_type": "code",
   "execution_count": 94,
   "id": "b06e41d9",
   "metadata": {},
   "outputs": [
    {
     "name": "stdout",
     "output_type": "stream",
     "text": [
      "The list have one common element.\n"
     ]
    }
   ],
   "source": [
    "#check if two list have at least one element in common \n",
    "def has_common_element(list1,list2):\n",
    "    for item in list1:\n",
    "        if item in list2:\n",
    "            return True\n",
    "    return False\n",
    "list1 = [2,4,8,7,9]\n",
    "list2 = [3,4,5,6,10]\n",
    "\n",
    "if has_common_element(list1,list2):\n",
    "    print(\"The list have one common element.\")\n",
    "else:\n",
    "    print(\"There is no common element.\")"
   ]
  },
  {
   "cell_type": "code",
   "execution_count": 95,
   "id": "edfa921e",
   "metadata": {},
   "outputs": [
    {
     "name": "stdout",
     "output_type": "stream",
     "text": [
      "Empty list:  []\n"
     ]
    }
   ],
   "source": [
    "#Remove all elements from the list\n",
    "my_list = [1,5,6,47,8,77]\n",
    "\n",
    "my_list.clear()\n",
    "print(\"Empty list: \", my_list)"
   ]
  },
  {
   "cell_type": "code",
   "execution_count": 96,
   "id": "a46b2ff1",
   "metadata": {},
   "outputs": [
    {
     "name": "stdout",
     "output_type": "stream",
     "text": [
      "List after replacing negative numbers with 0: [10, 0, 20, 0, 30, 0]\n"
     ]
    }
   ],
   "source": [
    "#Replace negative numbers in a list with 0\n",
    "my_list = [10, -5, 20, -15, 30, -25]\n",
    "\n",
    "# Step 1: Iterate through the list and replace negative numbers with 0\n",
    "for i in range(len(my_list)):\n",
    "    if my_list[i] < 0:\n",
    "        my_list[i] = 0\n",
    "\n",
    "# Print the list after replacing negative numbers with 0\n",
    "print(\"List after replacing negative numbers with 0:\", my_list)"
   ]
  },
  {
   "cell_type": "code",
   "execution_count": 97,
   "id": "70b30edd",
   "metadata": {},
   "outputs": [
    {
     "data": {
      "text/plain": [
       "['Hello,', 'this', 'is', 'a', 'sample', 'sentence.']"
      ]
     },
     "execution_count": 97,
     "metadata": {},
     "output_type": "execute_result"
    }
   ],
   "source": [
    "#Convert a string into list of words\n",
    "my_string = \"Hello, this is a sample sentence.\"\n",
    "word_list = my_string.split()\n",
    "#word_list = list(my_string)\n",
    "word_list\n"
   ]
  },
  {
   "cell_type": "code",
   "execution_count": 98,
   "id": "3bba57a8",
   "metadata": {},
   "outputs": [
    {
     "data": {
      "text/plain": [
       "'Hello, this is a sample sentence.'"
      ]
     },
     "execution_count": 98,
     "metadata": {},
     "output_type": "execute_result"
    }
   ],
   "source": [
    "#Convert a list of words in string\n",
    "\n",
    "my_strings= ['Hello,', 'this', 'is', 'a', 'sample', 'sentence.']\n",
    "my_string = \" \".join(my_strings)\n",
    "my_string"
   ]
  },
  {
   "cell_type": "code",
   "execution_count": 99,
   "id": "814531a8",
   "metadata": {},
   "outputs": [
    {
     "data": {
      "text/plain": [
       "[1, 2, 4, 8, 16, 32]"
      ]
     },
     "execution_count": 99,
     "metadata": {},
     "output_type": "execute_result"
    }
   ],
   "source": [
    "#Create a list of first n powers of 2\n",
    "\n",
    "n=6\n",
    "power_list = [2**i for i in range(n)]\n",
    "power_list"
   ]
  },
  {
   "cell_type": "code",
   "execution_count": 100,
   "id": "2b647367",
   "metadata": {},
   "outputs": [
    {
     "name": "stdout",
     "output_type": "stream",
     "text": [
      "Longest_string :elderberry\n"
     ]
    }
   ],
   "source": [
    "#Find the longest string in the list of string\n",
    "\n",
    "string_list = [\"apple\", \"banana\", \"cherry\", \"date\", \"elderberry\"]\n",
    "longest_string= string_list[0]\n",
    "for s in string_list:\n",
    "    if len(s) > len(longest_string):\n",
    "        longest_string = s\n",
    "        \n",
    "print(f\"Longest_string :{longest_string}\")"
   ]
  },
  {
   "cell_type": "code",
   "execution_count": 101,
   "id": "3e9ececb",
   "metadata": {},
   "outputs": [
    {
     "name": "stdout",
     "output_type": "stream",
     "text": [
      "shortest_string :date\n"
     ]
    }
   ],
   "source": [
    "#Find the shortest string in the list of string\n",
    "\n",
    "string_list = [\"apple\", \"banana\", \"cherry\", \"date\", \"elderberry\"]\n",
    "shortest_string= string_list[0]\n",
    "for s in string_list:\n",
    "    if len(s) < len(shortest_string):\n",
    "        shortest_string = s\n",
    "        \n",
    "print(f\"shortest_string :{shortest_string}\")"
   ]
  },
  {
   "cell_type": "code",
   "execution_count": 102,
   "id": "e96e6c4a",
   "metadata": {},
   "outputs": [
    {
     "name": "stdout",
     "output_type": "stream",
     "text": [
      "[1, 3, 6, 10, 15]\n"
     ]
    }
   ],
   "source": [
    "#create a list of first n triangular numbers\n",
    "def triangular_numbers(n):\n",
    "    return [i*(i+1)//2 for i in range(1,n+1)]\n",
    "n=5\n",
    "print(triangular_numbers(n))"
   ]
  },
  {
   "cell_type": "code",
   "execution_count": 103,
   "id": "fc6ece4a",
   "metadata": {},
   "outputs": [
    {
     "name": "stdout",
     "output_type": "stream",
     "text": [
      "Main list does not contain the subsequence.\n"
     ]
    }
   ],
   "source": [
    "#check if a list contains another list as subsequence\n",
    "\n",
    "def is_subsequence(subsequence,main_list):\n",
    "    sub_index= 0\n",
    "    for element in main_list:\n",
    "        if element == subsequence[sub_index]:\n",
    "            sub_index +=1\n",
    "            if sub_index== len(subsequence):\n",
    "                return True\n",
    "    return False\n",
    "\n",
    "main_list = [33,2,11,522,15,9211,228,5662,36,3]\n",
    "subsequence=[2,3,36]\n",
    "# Check if the main list contains the subsequence\n",
    "if is_subsequence(subsequence, main_list):\n",
    "    print(\"Main list contains the subsequence.\")\n",
    "else:\n",
    "    print(\"Main list does not contain the subsequence.\")"
   ]
  },
  {
   "cell_type": "code",
   "execution_count": 104,
   "id": "40f5d410",
   "metadata": {},
   "outputs": [
    {
     "name": "stdout",
     "output_type": "stream",
     "text": [
      "List after swapping elements: [1, 4, 3, 2, 5]\n"
     ]
    }
   ],
   "source": [
    "#Swap two elements by their indices\n",
    "my_list = [1, 2, 3, 4, 5]\n",
    "\n",
    "# Indices of elements to swap\n",
    "index1 = 1\n",
    "index2 = 3\n",
    "\n",
    "# Swap the elements at the specified indices\n",
    "temp = my_list[index1]\n",
    "my_list[index1] = my_list[index2]\n",
    "my_list[index2] = temp\n",
    "\n",
    "# Print the list after swapping\n",
    "print(\"List after swapping elements:\", my_list)"
   ]
  },
  {
   "cell_type": "markdown",
   "id": "3c0debb8",
   "metadata": {},
   "source": [
    "# Tuple Based Practice Problems ###"
   ]
  },
  {
   "cell_type": "code",
   "execution_count": 105,
   "id": "6c04a07e",
   "metadata": {},
   "outputs": [
    {
     "name": "stdout",
     "output_type": "stream",
     "text": [
      "(1, 2, 3, 4, 5)\n"
     ]
    }
   ],
   "source": [
    "#Create a Tuple with integer from 1 to 5\n",
    "my_tuple = (1, 2, 3, 4, 5)\n",
    "print(my_tuple)"
   ]
  },
  {
   "cell_type": "code",
   "execution_count": 106,
   "id": "8c4293df",
   "metadata": {},
   "outputs": [
    {
     "name": "stdout",
     "output_type": "stream",
     "text": [
      "The third Element is: 3\n"
     ]
    }
   ],
   "source": [
    "#Access the third element of a tuple\n",
    "my_tuple = (1, 2, 3, 4, 5)\n",
    "third_ele = my_tuple[2]\n",
    "print(f\"The third Element is: {third_ele}\")"
   ]
  },
  {
   "cell_type": "code",
   "execution_count": 107,
   "id": "e786bf1e",
   "metadata": {},
   "outputs": [
    {
     "name": "stdout",
     "output_type": "stream",
     "text": [
      "The lenght of a tuple is: 5\n"
     ]
    }
   ],
   "source": [
    "#find the length of a tuple without using len() function\n",
    "my_tuple = (10,20,35,45,78)\n",
    "count = 0\n",
    "for i in my_tuple:\n",
    "    count +=1\n",
    "    \n",
    "# Step 4: Print the length of the tuple\n",
    "print(f\"The lenght of a tuple is: {count}\")"
   ]
  },
  {
   "cell_type": "code",
   "execution_count": 108,
   "id": "9c9ec449",
   "metadata": {},
   "outputs": [
    {
     "name": "stdout",
     "output_type": "stream",
     "text": [
      "The Element in occurence 35 and its count is '2' \n"
     ]
    }
   ],
   "source": [
    "#count the occurence of the element\n",
    "my_tuple = (10,20,35,45,78,35)\n",
    "ele_to_count = 35\n",
    "counts = 0\n",
    "for item in my_tuple:\n",
    "    if item==ele_to_count:\n",
    "        counts +=1\n",
    "        \n",
    "print(f\"The Element in occurence {ele_to_count} and its count is '{counts}' \")"
   ]
  },
  {
   "cell_type": "code",
   "execution_count": 109,
   "id": "88db6417",
   "metadata": {},
   "outputs": [
    {
     "name": "stdout",
     "output_type": "stream",
     "text": [
      "The First Occurence of 20 is at index 1\n"
     ]
    }
   ],
   "source": [
    "#Find the index of the first occurence of an element in tuple \n",
    "my_tuple = (10, 20, 30, 20, 40, 50)\n",
    "ele_to_find = 20\n",
    "\n",
    "index = -1\n",
    "\n",
    "for i , item in enumerate(my_tuple):\n",
    "    if item == ele_to_find:\n",
    "        index = i\n",
    "        break\n",
    "#     print(i,':',item)\n",
    "if index != -1:\n",
    "    print(f\"The First Occurence of {ele_to_find} is at index {index}\")\n",
    "else:\n",
    "    print(f\"The element which need to find is not available in the tuple.\")"
   ]
  },
  {
   "cell_type": "code",
   "execution_count": 110,
   "id": "d66bae96",
   "metadata": {},
   "outputs": [
    {
     "name": "stdout",
     "output_type": "stream",
     "text": [
      "30 is present in my_tuple\n"
     ]
    }
   ],
   "source": [
    "#check if an element exist in tuple\n",
    "my_tuple = (10, 20, 30, 40, 50)\n",
    "\n",
    "# Step 2: Choose the element to check for existence\n",
    "element_to_check = 30\n",
    "\n",
    "if element_to_check in my_tuple:\n",
    "    print(f\"{element_to_check} is present in my_tuple\")\n",
    "else:\n",
    "    print(\"Element is not present\")"
   ]
  },
  {
   "cell_type": "code",
   "execution_count": 111,
   "id": "5b56dcb1",
   "metadata": {},
   "outputs": [
    {
     "name": "stdout",
     "output_type": "stream",
     "text": [
      "[10, 20, 30, 40, 50]\n"
     ]
    }
   ],
   "source": [
    "#convert Tuple to list\n",
    "my_tuple = (10, 20, 30, 40, 50)\n",
    "my_list = list(my_tuple)\n",
    "print(my_list)"
   ]
  },
  {
   "cell_type": "code",
   "execution_count": 112,
   "id": "2a773e85",
   "metadata": {},
   "outputs": [
    {
     "name": "stdout",
     "output_type": "stream",
     "text": [
      "(10, 20, 30, 40, 50)\n"
     ]
    }
   ],
   "source": [
    "#convert list to tuple\n",
    "my_list = [10, 20, 30, 40, 50]\n",
    "my_tuple = tuple(my_list)\n",
    "print(my_tuple)"
   ]
  },
  {
   "cell_type": "code",
   "execution_count": 113,
   "id": "33da9a4b",
   "metadata": {},
   "outputs": [
    {
     "name": "stdout",
     "output_type": "stream",
     "text": [
      "10\n",
      "20\n",
      "30 80 70 99\n"
     ]
    }
   ],
   "source": [
    "#Unpack the elements of a tuple into variables.\n",
    "# Step 1: Create a tuple\n",
    "my_tuple = (10, 20, 30,80,70,99)\n",
    "var1,var2,*rest = my_tuple\n",
    "print(var1)\n",
    "print(var2)\n",
    "print(*rest)"
   ]
  },
  {
   "cell_type": "code",
   "execution_count": 114,
   "id": "13b5ac11",
   "metadata": {},
   "outputs": [
    {
     "name": "stdout",
     "output_type": "stream",
     "text": [
      "(2, 4, 6, 8, 10)\n"
     ]
    }
   ],
   "source": [
    "#create a tuple of even number from 1 to 10\n",
    "#creating a list of even numbers using list comprehension\n",
    "\n",
    "even_num_list = [num for num in range(1,11) if num % 2 == 0]\n",
    "even_num_tuple =tuple(even_num_list)\n",
    "print(even_num_tuple)"
   ]
  },
  {
   "cell_type": "code",
   "execution_count": 115,
   "id": "1c2abb6e",
   "metadata": {},
   "outputs": [
    {
     "name": "stdout",
     "output_type": "stream",
     "text": [
      "(1, 3, 5, 7, 9)\n"
     ]
    }
   ],
   "source": [
    "#create a tuple of odd number from 1 to 10\n",
    "#creating a list of odd numbers using list comprehension\n",
    "\n",
    "even_num_list = [num for num in range(1,11) if num % 2 != 0]\n",
    "even_num_tuple =tuple(even_num_list)\n",
    "print(even_num_tuple)"
   ]
  },
  {
   "cell_type": "code",
   "execution_count": 116,
   "id": "4234f7b1",
   "metadata": {},
   "outputs": [
    {
     "name": "stdout",
     "output_type": "stream",
     "text": [
      "(1, 2, 3, 5, 8, 9)\n"
     ]
    }
   ],
   "source": [
    "#concatenate two tuples\n",
    "tup1 = (3,5,9)\n",
    "tup2 = (1,8,2)\n",
    "conc_tuple = tup1 + tup2\n",
    "print(tuple(sorted(conc_tuple)))"
   ]
  },
  {
   "cell_type": "code",
   "execution_count": 117,
   "id": "73f9fa04",
   "metadata": {},
   "outputs": [
    {
     "data": {
      "text/plain": [
       "(3, 5, 9, 3, 5, 9, 3, 5, 9)"
      ]
     },
     "execution_count": 117,
     "metadata": {},
     "output_type": "execute_result"
    }
   ],
   "source": [
    "#repeate tuple 3 times\n",
    "orig_tup = (3,5,9)\n",
    "re_tup = orig_tup*3\n",
    "re_tup"
   ]
  },
  {
   "cell_type": "code",
   "execution_count": 118,
   "id": "d59754a1",
   "metadata": {},
   "outputs": [
    {
     "name": "stdout",
     "output_type": "stream",
     "text": [
      "The tuple is not empty.\n"
     ]
    }
   ],
   "source": [
    "#check if the tuple is empty\n",
    "my_tuple = (3,4)\n",
    "is_empty = len(my_tuple) == 0\n",
    "\n",
    "if is_empty:\n",
    "    print(\"The tuple is empty.\")\n",
    "else:\n",
    "    print(\"The tuple is not empty.\")\n"
   ]
  },
  {
   "cell_type": "code",
   "execution_count": 119,
   "id": "bb917825",
   "metadata": {},
   "outputs": [
    {
     "name": "stdout",
     "output_type": "stream",
     "text": [
      "First element of the nested tuple :  (1, 2, 3)\n"
     ]
    }
   ],
   "source": [
    "#create a nested tuple\n",
    "nested_tuple= ((1,2,3),('a','c','d'),(True,False))\n",
    "frist_element = nested_tuple[0]\n",
    "\n",
    "print(\"First element of the nested tuple : \", frist_element)"
   ]
  },
  {
   "cell_type": "code",
   "execution_count": 120,
   "id": "c99ca74d",
   "metadata": {},
   "outputs": [
    {
     "name": "stdout",
     "output_type": "stream",
     "text": [
      "Single element tuple: (42,)\n"
     ]
    }
   ],
   "source": [
    "#create a tuple with single element\n",
    "single_element_tuple = (42,)  # Note the trailing comma\n",
    "\n",
    "# Step 2: Print the single element tuple\n",
    "print(\"Single element tuple:\", single_element_tuple)"
   ]
  },
  {
   "cell_type": "code",
   "execution_count": 121,
   "id": "a95cde2b",
   "metadata": {},
   "outputs": [
    {
     "name": "stdout",
     "output_type": "stream",
     "text": [
      "tuple1 == tuple2: False\n",
      "tuple1 != tuple2: True\n",
      "tuple1 < tuple2: True\n",
      "tuple1 <= tuple2: True\n",
      "tuple1 > tuple2: False\n",
      "tuple1 >= tuple2: False\n"
     ]
    }
   ],
   "source": [
    "#Compare two tuples\n",
    "tuple1 = (1,2,3)\n",
    "tuple2 = (1,2,4)\n",
    "\n",
    "# Step 2: Compare the two tuples using comparison operators\n",
    "print(\"tuple1 == tuple2:\", tuple1 == tuple2)  # Equality check\n",
    "print(\"tuple1 != tuple2:\", tuple1 != tuple2)  # Inequality check\n",
    "print(\"tuple1 < tuple2:\", tuple1 < tuple2)    # Less than check\n",
    "print(\"tuple1 <= tuple2:\", tuple1 <= tuple2)  # Less than or equal to check\n",
    "print(\"tuple1 > tuple2:\", tuple1 > tuple2)    # Greater than check\n",
    "print(\"tuple1 >= tuple2:\", tuple1 >= tuple2)  # Greater than or equal to check"
   ]
  },
  {
   "cell_type": "code",
   "execution_count": 122,
   "id": "f1140e4b",
   "metadata": {},
   "outputs": [],
   "source": [
    "#Delete Tuple\n",
    "tuple1 = (1,2,3)\n",
    "del tuple1\n",
    "#print(tuple1)"
   ]
  },
  {
   "cell_type": "code",
   "execution_count": 123,
   "id": "dbc04496",
   "metadata": {},
   "outputs": [
    {
     "name": "stdout",
     "output_type": "stream",
     "text": [
      "Sliced Tuple: (3, 4, 5)\n"
     ]
    }
   ],
   "source": [
    "#Slice a tuple\n",
    "my_tuple = (1, 2, 3, 4, 5, 6, 7, 8, 9, 10)\n",
    "sliced_tuple = my_tuple[2:5]\n",
    "print(\"Sliced Tuple:\",sliced_tuple)"
   ]
  },
  {
   "cell_type": "code",
   "execution_count": 124,
   "id": "83c5d452",
   "metadata": {},
   "outputs": [
    {
     "name": "stdout",
     "output_type": "stream",
     "text": [
      "45\n"
     ]
    }
   ],
   "source": [
    "#find the maximum value in Tuple\n",
    "\n",
    "my_tuple = (10, 20, 5, 45, 30)\n",
    "\n",
    "maxi = max(my_tuple)\n",
    "print(maxi)"
   ]
  },
  {
   "cell_type": "code",
   "execution_count": 125,
   "id": "41577f28",
   "metadata": {},
   "outputs": [
    {
     "name": "stdout",
     "output_type": "stream",
     "text": [
      "5\n"
     ]
    }
   ],
   "source": [
    "#find the minimum value in Tuple\n",
    "\n",
    "my_tuple = (10, 20, 5, 45, 30)\n",
    "\n",
    "maxi = min(my_tuple)\n",
    "print(maxi)"
   ]
  },
  {
   "cell_type": "code",
   "execution_count": 126,
   "id": "f6fb60d1",
   "metadata": {},
   "outputs": [
    {
     "name": "stdout",
     "output_type": "stream",
     "text": [
      "('H', 'e', 'l', 'l', 'o', ',', ' ', 'W', 'o', 'r', 'l', 'd', '!')\n"
     ]
    }
   ],
   "source": [
    "#convert string to tuple of characters\n",
    "# Step 1: Create a string\n",
    "my_string = \"Hello, World!\"\n",
    "print(tuple(my_string))\n",
    "\n"
   ]
  },
  {
   "cell_type": "code",
   "execution_count": 127,
   "id": "4a9ad3b7",
   "metadata": {},
   "outputs": [
    {
     "name": "stdout",
     "output_type": "stream",
     "text": [
      "String from tuple: Hello World!\n"
     ]
    }
   ],
   "source": [
    "#convert tuple to characters of string\n",
    "# Step 1: Create a tuple of characters\n",
    "tuple_of_characters = ('H', 'e', 'l', 'l', 'o', ' ', 'W', 'o', 'r', 'l', 'd', '!')\n",
    "\n",
    "# Step 2: Convert the tuple of characters to a string using the 'join()' method\n",
    "string_from_tuple = ''.join(tuple_of_characters)\n",
    "\n",
    "# Step 3: Print the resulting string\n",
    "print(\"String from tuple:\", string_from_tuple)"
   ]
  },
  {
   "cell_type": "code",
   "execution_count": 128,
   "id": "b71dc24a",
   "metadata": {},
   "outputs": [
    {
     "name": "stdout",
     "output_type": "stream",
     "text": [
      "tuple1 and tuple2 are identical: True\n",
      "tuple1 and tuple3 are identical: False\n"
     ]
    }
   ],
   "source": [
    "#check if two tuple are identical\n",
    "tuple1 = (1, 2, 3)\n",
    "tuple2 = (1, 2, 3)\n",
    "tuple3 = (4, 5, 6)\n",
    "\n",
    "are_identical1 = tuple1 == tuple2\n",
    "are_identical2 = tuple1 == tuple3\n",
    "\n",
    "# Step 3: Print the results\n",
    "print(\"tuple1 and tuple2 are identical:\", are_identical1)\n",
    "print(\"tuple1 and tuple3 are identical:\", are_identical2)"
   ]
  },
  {
   "cell_type": "code",
   "execution_count": 129,
   "id": "494c28a6",
   "metadata": {},
   "outputs": [
    {
     "name": "stdout",
     "output_type": "stream",
     "text": [
      "('1', '2', '3', '4', '5')\n"
     ]
    }
   ],
   "source": [
    "#convert tuple of integer to tuple of string\n",
    "\n",
    "tuple_of_integers = (1, 2, 3, 4, 5)\n",
    "tuple_of_string = tuple(str(item) for item in tuple_of_integers)\n",
    "print(tuple_of_string)"
   ]
  },
  {
   "cell_type": "code",
   "execution_count": 135,
   "id": "c0771a7f",
   "metadata": {},
   "outputs": [
    {
     "name": "stdout",
     "output_type": "stream",
     "text": [
      "Flattened tuple: [1, 2, 3, 4, 5, 6, 7, 8]\n"
     ]
    }
   ],
   "source": [
    "#flatten anested tuple\n",
    "def flat_tup(nested_tup):\n",
    "    flats_tups= []\n",
    "    for item in nested_tup:\n",
    "        if isinstance(item,tuple):\n",
    "            flats_tups.extend(flat_tup(item))\n",
    "        else:\n",
    "            flats_tups.append(item)\n",
    "    return flats_tups\n",
    "nested_tup= ((1, 2), (3, 4, 5), (6, (7, 8)))\n",
    "\n",
    "# Step 2: Flatten the nested tuple\n",
    "flats_tups = flat_tup(nested_tup)\n",
    "\n",
    "# Step 3: Print the flattened tuple\n",
    "print(\"Flattened tuple:\", flats_tups)"
   ]
  },
  {
   "cell_type": "code",
   "execution_count": 4,
   "id": "ae063843",
   "metadata": {},
   "outputs": [
    {
     "name": "stdout",
     "output_type": "stream",
     "text": [
      "Tuple of the first 15 prime numbers: (2, 3, 5, 7, 11, 13, 17, 19, 23, 29, 31, 37, 41, 43, 47)\n"
     ]
    }
   ],
   "source": [
    "#Create a tuple of first 5 prime numbers\n",
    "\n",
    "def is_prime(num):\n",
    "    if num <=1:\n",
    "        return False\n",
    "    for i in range(2, int(num**0.5)+1):\n",
    "        if num % i ==0:\n",
    "            return False\n",
    "    return True\n",
    "\n",
    "prime_num_list = [num for num in range(2,100) if is_prime(num)][:15]\n",
    "\n",
    "prime_num_tuple= tuple(prime_num_list)\n",
    "\n",
    "# Print the tuple of prime numbers\n",
    "print(\"Tuple of the first 15 prime numbers:\", prime_num_tuple)\n"
   ]
  },
  {
   "cell_type": "code",
   "execution_count": 7,
   "id": "381f2515",
   "metadata": {},
   "outputs": [
    {
     "name": "stdout",
     "output_type": "stream",
     "text": [
      "palindrome_tuple is a palindrome: True\n",
      "non_palindrome_tuple is a palindrome: False\n"
     ]
    }
   ],
   "source": [
    "#Check if Tuple is Palindrome\n",
    "def is_palindrome(tup):\n",
    "    return tup == tup[::-1]\n",
    "#create a tuple for testing \n",
    "palindrome_tuple =(1,2,3,2,1)\n",
    "non_palindrome_tuple = (1,4,4,2)\n",
    "\n",
    "# Check if the tuples are palindromes\n",
    "is_palindrome1 = is_palindrome(palindrome_tuple)\n",
    "is_palindrome2 = is_palindrome(non_palindrome_tuple)\n",
    "\n",
    "# Print the results\n",
    "print(\"palindrome_tuple is a palindrome:\", is_palindrome1)\n",
    "print(\"non_palindrome_tuple is a palindrome:\", is_palindrome2)"
   ]
  },
  {
   "cell_type": "code",
   "execution_count": 8,
   "id": "72c771a0",
   "metadata": {},
   "outputs": [
    {
     "name": "stdout",
     "output_type": "stream",
     "text": [
      "Tuple of Square:  (1, 4, 9, 16, 25)\n"
     ]
    }
   ],
   "source": [
    "#create a tuple of squares of number from 1 to 5\n",
    "square_tuples =  tuple(x**2 for x in range (1,6))\n",
    "print(\"Tuple of Square: \", square_tuples)"
   ]
  },
  {
   "cell_type": "code",
   "execution_count": 9,
   "id": "e997292a",
   "metadata": {},
   "outputs": [
    {
     "name": "stdout",
     "output_type": "stream",
     "text": [
      "Filtered tuple: (1, 3, 5, 7, 9)\n"
     ]
    }
   ],
   "source": [
    "#Filter out all the even numbers from a tuple\n",
    "# Create a tuple\n",
    "original_tuple = (1, 2, 3, 4, 5, 6, 7, 8, 9, 10)\n",
    "\n",
    "# Filter out even numbers using a list comprehension\n",
    "filtered_tuple = tuple(num for num in original_tuple if num % 2 != 0)\n",
    "\n",
    "# Print the filtered tuple\n",
    "print(\"Filtered tuple:\", filtered_tuple)"
   ]
  },
  {
   "cell_type": "code",
   "execution_count": 10,
   "id": "a0f6014e",
   "metadata": {},
   "outputs": [
    {
     "name": "stdout",
     "output_type": "stream",
     "text": [
      "(2, 4, 6, 8, 10)\n"
     ]
    }
   ],
   "source": [
    "#Mul all elements n a tuple by 2\n",
    "# Create a tuple\n",
    "original_tuple = (1, 2, 3, 4, 5)\n",
    "double_tup =  tuple(num*2 for num in original_tuple)\n",
    "\n",
    "print(double_tup)"
   ]
  },
  {
   "cell_type": "code",
   "execution_count": 14,
   "id": "0e6e42b6",
   "metadata": {},
   "outputs": [
    {
     "name": "stdout",
     "output_type": "stream",
     "text": [
      "(88, 69, 83, 54, 11, 50, 72, 59, 18, 43)\n"
     ]
    }
   ],
   "source": [
    "#create a tuple of random numbers\n",
    "\n",
    "import random \n",
    "\n",
    "random_tuple =  tuple(random.randint(1,100) for i in range(10))\n",
    "\n",
    "print(random_tuple)"
   ]
  },
  {
   "cell_type": "code",
   "execution_count": 1,
   "id": "6eedbf8c",
   "metadata": {},
   "outputs": [
    {
     "name": "stdout",
     "output_type": "stream",
     "text": [
      "sorted_tuple is sorted: True\n",
      "unsorted_tuple is sorted: False\n"
     ]
    }
   ],
   "source": [
    "#Check tuple is sorted\n",
    "\n",
    "def is_sorted(tup):\n",
    "    for i in range(len(tup) - 1):\n",
    "        if tup[i] > tup[i+1]:\n",
    "            return False \n",
    "    return True\n",
    "\n",
    "# Create tuples for testing\n",
    "sorted_tuple = (1, 2, 3, 4, 5)\n",
    "unsorted_tuple = (5, 3, 1, 4, 2)\n",
    "\n",
    "# Check if the tuples are sorted\n",
    "is_sorted1 = is_sorted(sorted_tuple)\n",
    "is_sorted2 = is_sorted(unsorted_tuple)\n",
    "\n",
    "# Print the results\n",
    "print(\"sorted_tuple is sorted:\", is_sorted1)\n",
    "print(\"unsorted_tuple is sorted:\", is_sorted2)"
   ]
  },
  {
   "cell_type": "code",
   "execution_count": 5,
   "id": "890e1dd2",
   "metadata": {},
   "outputs": [
    {
     "name": "stdout",
     "output_type": "stream",
     "text": [
      "(4, 5, 6, 1, 2, 3)\n"
     ]
    }
   ],
   "source": [
    "#Rotate the tuple to left by n position\n",
    "\n",
    "def rotate_tuple_left(tup,n):\n",
    "    n = n % len(tup)  # Ensuring n is within the range of tuple\n",
    "    rotate_tup = tup[n+1:] + tup[:n+1]\n",
    "    return rotate_tup\n",
    "\n",
    "my_tuple = (1,2,3,4,5,6)\n",
    "n_pos = 2\n",
    "result = rotate_tuple_left(my_tuple, n_pos)\n",
    "print(result)\n",
    "    "
   ]
  },
  {
   "cell_type": "code",
   "execution_count": 17,
   "id": "eb42c52b",
   "metadata": {},
   "outputs": [
    {
     "name": "stdout",
     "output_type": "stream",
     "text": [
      "(0, 1, 1, 2, 3, 5, 8, 13, 21, 34)\n"
     ]
    }
   ],
   "source": [
    "#Create a tuple of first  fibonacci numbers\n",
    "def fibonacci(n):\n",
    "    if n == 0:\n",
    "        return 0\n",
    "    elif n == 1:\n",
    "        return 1\n",
    "    else:\n",
    "        return fibonacci(n - 1) + fibonacci(n - 2)\n",
    "\n",
    "# Find the first 10 Fibonacci numbers\n",
    "fib_list = []\n",
    "for i in range(10):\n",
    "    fib_list.append(fibonacci(i))\n",
    "\n",
    "print(tuple(fib_list))"
   ]
  },
  {
   "cell_type": "code",
   "execution_count": 19,
   "id": "34bdce47",
   "metadata": {},
   "outputs": [
    {
     "name": "stdout",
     "output_type": "stream",
     "text": [
      "(0, 1, 1, 2, 3, 5, 8, 13, 21, 34)\n"
     ]
    }
   ],
   "source": [
    "#Create a tuple of first  fibonacci numbers\n",
    "def gen_fib(n):\n",
    "    fibonacci = [0,1]\n",
    "    while len(fibonacci) < n:\n",
    "        next_number = fibonacci[-1] +fibonacci[-2]\n",
    "        fibonacci.append(next_number)\n",
    "    return tuple(fibonacci)\n",
    "\n",
    "fibonacci_tuple = gen_fib(10)\n",
    "print(fibonacci_tuple)\n",
    "        \n",
    "        "
   ]
  },
  {
   "cell_type": "code",
   "execution_count": 33,
   "id": "36790654",
   "metadata": {},
   "outputs": [
    {
     "name": "stdout",
     "output_type": "stream",
     "text": [
      "Enter elements seprated by commas: hello to you\n",
      "User input tuple:('hello to you',) \n"
     ]
    }
   ],
   "source": [
    "#create a tuple from user input\n",
    "input_str = input(\"Enter elements seprated by commas: \")\n",
    "input_list = input_str.split(\",\")\n",
    "user_tuple = tuple(input_list)\n",
    "print(f\"User input tuple:{user_tuple} \")"
   ]
  },
  {
   "cell_type": "code",
   "execution_count": 32,
   "id": "641ab8a9",
   "metadata": {},
   "outputs": [
    {
     "name": "stdout",
     "output_type": "stream",
     "text": [
      "('H', 'e', 'l', 'l', 'o')\n"
     ]
    }
   ],
   "source": [
    "n= \"Hello\"\n",
    "print(tuple([k for k in n]))\n"
   ]
  },
  {
   "cell_type": "code",
   "execution_count": 35,
   "id": "063dd3bf",
   "metadata": {},
   "outputs": [
    {
     "ename": "SyntaxError",
     "evalue": "invalid syntax (1913155971.py, line 8)",
     "output_type": "error",
     "traceback": [
      "\u001b[1;36m  File \u001b[1;32m\"C:\\Users\\30086890\\AppData\\Local\\Temp\\ipykernel_18604\\1913155971.py\"\u001b[1;36m, line \u001b[1;32m8\u001b[0m\n\u001b[1;33m    for i in range(len(my_tuple))\u001b[0m\n\u001b[1;37m                                 ^\u001b[0m\n\u001b[1;31mSyntaxError\u001b[0m\u001b[1;31m:\u001b[0m invalid syntax\n"
     ]
    }
   ],
   "source": [
    "#Swap two elements in tuple\n",
    "my_tuple = (1,2,3,4,5,6,7)\n",
    "\n",
    "#swapping elements at indices 1 and 4\n",
    "index1 = 1\n",
    "index2 = 4\n",
    "swapped_tuple = my_tuple[i] if i not in (index1,index2) else my_tuple[index2] if i == index1 else my_tuple[index1]\n",
    "for i in range(len(my_tuple))\n",
    "\n",
    "print(\"Swapped tuple: \", swapped_tuple)"
   ]
  },
  {
   "cell_type": "code",
   "execution_count": 36,
   "id": "ef19f4f4",
   "metadata": {},
   "outputs": [
    {
     "name": "stdout",
     "output_type": "stream",
     "text": [
      "Reversed_tuple:(7, 6, 5, 4, 3, 2, 1)\n"
     ]
    }
   ],
   "source": [
    "#Reverse the element of the tuple\n",
    "\n",
    "my_tuple = (1,2,3,4,5,6,7)\n",
    "reversed_tuple = my_tuple[::-1]\n",
    "\n",
    "print(f\"Reversed_tuple:{reversed_tuple}\")"
   ]
  },
  {
   "cell_type": "code",
   "execution_count": 38,
   "id": "f62a8a12",
   "metadata": {},
   "outputs": [
    {
     "name": "stdout",
     "output_type": "stream",
     "text": [
      "(1, 2, 4, 8, 16, 32, 64, 128, 256, 512)\n"
     ]
    }
   ],
   "source": [
    "#create a tuple of first n powers of 2\n",
    "\n",
    "n = 10\n",
    "\n",
    "power_of_val = tuple(2**i for i in range (n))\n",
    "print(power_of_val)"
   ]
  },
  {
   "cell_type": "code",
   "execution_count": 49,
   "id": "1799c6ec",
   "metadata": {},
   "outputs": [
    {
     "name": "stdout",
     "output_type": "stream",
     "text": [
      "4\n",
      "watermelon\n"
     ]
    }
   ],
   "source": [
    "# Find the longest string in a tuple of strings\n",
    "# Create a tuple of strings\n",
    "string_tuple = (\"apple\", \"banana\", \"grape\", \"kiwi\", \"watermelon\")\n",
    "\n",
    "length = [len(s) for s in string_tuple]\n",
    "\n",
    "longest_length =length.index(max(length))\n",
    "longest_tups = string_tuple[longest_length]\n",
    "print(longest_length)\n",
    "print(longest_tups)"
   ]
  },
  {
   "cell_type": "code",
   "execution_count": 50,
   "id": "55dd3f5e",
   "metadata": {},
   "outputs": [
    {
     "name": "stdout",
     "output_type": "stream",
     "text": [
      "Shortest string: kiwi\n"
     ]
    }
   ],
   "source": [
    "#Find the shortest string in a tuple\n",
    "# Create a tuple of strings\n",
    "string_tuple = (\"apple\", \"banana\", \"grape\", \"kiwi\", \"watermelon\")\n",
    "\n",
    "# Find the shortest string in the tuple\n",
    "shortest_string = min(string_tuple, key=len)\n",
    "\n",
    "# Print the shortest string\n",
    "print(\"Shortest string:\", shortest_string)"
   ]
  },
  {
   "cell_type": "code",
   "execution_count": 51,
   "id": "7c6de849",
   "metadata": {},
   "outputs": [
    {
     "name": "stdout",
     "output_type": "stream",
     "text": [
      "Tuple of the first 5 triangular numbers: (1, 3, 6, 10, 15)\n"
     ]
    }
   ],
   "source": [
    "#Create a tuple of first n triangular numbers\n",
    "# Define the value of n\n",
    "n = 5\n",
    "\n",
    "# Create a tuple of the first n triangular numbers using a list comprehension\n",
    "triangular_numbers_tuple = tuple((i * (i + 1)) // 2 for i in range(1, n + 1))\n",
    "\n",
    "# Print the tuple of triangular numbers\n",
    "print(\"Tuple of the first\", n, \"triangular numbers:\", triangular_numbers_tuple)"
   ]
  },
  {
   "cell_type": "code",
   "execution_count": 57,
   "id": "18bd222d",
   "metadata": {},
   "outputs": [
    {
     "name": "stdout",
     "output_type": "stream",
     "text": [
      "0\n",
      "1\n",
      "2\n",
      "3\n",
      "None\n"
     ]
    }
   ],
   "source": [
    "#check if a tuple contains another tuple a subsequence\n",
    "\n",
    "def contains_subs(main_tuple,sec_tup):\n",
    "    sub_len= len(sec_tup)\n",
    "    for i in range(len(main_tuple) - sub_len +1):\n",
    "        print(i)\n",
    "main_tuple = (1,2,3,4,5,6)\n",
    "sec_tup = (3,4,5)\n",
    "cc=contains_subs(main_tuple,sec_tup)\n",
    "print(cc)"
   ]
  },
  {
   "cell_type": "code",
   "execution_count": 1,
   "id": "7f39609b",
   "metadata": {},
   "outputs": [
    {
     "name": "stdout",
     "output_type": "stream",
     "text": [
      "Alternating tuple is:  (0, 1, 0, 1, 0, 1, 0, 1, 0, 1)\n"
     ]
    }
   ],
   "source": [
    "#create a tuple of alternating 1s and 0s of length n.\n",
    "\n",
    "#Define value of n.\n",
    "n=10\n",
    "#creating a tuple of alternating 1s and 0s\n",
    "\n",
    "alt_tup = tuple(i % 2 for i in range (n))\n",
    "\n",
    "print(\"Alternating tuple is: \", alt_tup)"
   ]
  },
  {
   "cell_type": "markdown",
   "id": "4f862818",
   "metadata": {},
   "source": [
    "# SET Based Problems"
   ]
  },
  {
   "cell_type": "code",
   "execution_count": 5,
   "id": "bd9880df",
   "metadata": {},
   "outputs": [
    {
     "name": "stdout",
     "output_type": "stream",
     "text": [
      "{1, 2, 3, 4, 5}\n"
     ]
    }
   ],
   "source": [
    "#Create a set with Integer from 1 to 2\n",
    "\n",
    "my_set = set()\n",
    "# Step 2: Add integers from 1 to 5 to the set\n",
    "my_set.add(1)\n",
    "my_set.add(2)\n",
    "my_set.add(3)\n",
    "my_set.add(4)\n",
    "my_set.add(5)\n",
    "\n",
    "# Step 3: Print the final set\n",
    "print(my_set)## Set based problems:"
   ]
  },
  {
   "cell_type": "code",
   "execution_count": 6,
   "id": "6a9da135",
   "metadata": {},
   "outputs": [
    {
     "name": "stdout",
     "output_type": "stream",
     "text": [
      "My Original Set is:  {1, 2, 3, 4, 5, 6}\n",
      "Set after adding element is:  {1, 2, 3, 4, 5, 6, 9}\n"
     ]
    }
   ],
   "source": [
    "#Add an element to a set\n",
    "my_set ={1,2,3,4,5,6}\n",
    "print(\"My Original Set is: \",my_set)\n",
    "\n",
    "#ele to add\n",
    "ele_to_add = 9\n",
    "my_set.add(ele_to_add)\n",
    "\n",
    "print(\"Set after adding element is: \",my_set)"
   ]
  },
  {
   "cell_type": "code",
   "execution_count": 7,
   "id": "3eccdcff",
   "metadata": {},
   "outputs": [
    {
     "name": "stdout",
     "output_type": "stream",
     "text": [
      "My Original Set is:  {1, 2, 3, 4, 5, 6}\n",
      "Set after adding element is:  {1, 2, 4, 5, 6}\n"
     ]
    }
   ],
   "source": [
    "#Remove Element from a set\n",
    "my_set ={1,2,3,4,5,6}\n",
    "print(\"My Original Set is: \",my_set)\n",
    "\n",
    "#ele to add\n",
    "ele_to_add = 3\n",
    "my_set.remove(ele_to_add)\n",
    "\n",
    "print(\"Set after adding element is: \",my_set)"
   ]
  },
  {
   "cell_type": "code",
   "execution_count": 8,
   "id": "91c95a7b",
   "metadata": {},
   "outputs": [
    {
     "name": "stdout",
     "output_type": "stream",
     "text": [
      "Enter the element you need to check: 3\n",
      "Element exists\n"
     ]
    }
   ],
   "source": [
    "#check if an element exist in a set\n",
    "my_set ={1,2,3,4,5,6}\n",
    "\n",
    "#Ask user to check if the element exist\n",
    "ele_to_check = int(input(\"Enter the element you need to check: \"))\n",
    "\n",
    "#Using \"in\" keyword to check the element exist\n",
    "if ele_to_check in my_set:\n",
    "    print(\"Element exists\")\n",
    "else:\n",
    "    print(\"Element not found\")"
   ]
  },
  {
   "cell_type": "code",
   "execution_count": 10,
   "id": "6346e1e3",
   "metadata": {},
   "outputs": [
    {
     "name": "stdout",
     "output_type": "stream",
     "text": [
      "The len of the element is:  7\n"
     ]
    }
   ],
   "source": [
    "#Find the length of element without using len() function\n",
    "\n",
    "my_set ={1,2,3,4,5,6,45}\n",
    "\n",
    "count = 0\n",
    "\n",
    "#iterate through each element\n",
    "\n",
    "for i in my_set:\n",
    "    count +=1\n",
    "    \n",
    "    \n",
    "print(\"The len of the element is: \",count)"
   ]
  },
  {
   "cell_type": "code",
   "execution_count": 11,
   "id": "2bd4443e",
   "metadata": {},
   "outputs": [
    {
     "name": "stdout",
     "output_type": "stream",
     "text": [
      "The Orig set is:  {1, 2, 3, 4, 5, 6, 45}\n",
      "Set after clearing is:  set()\n"
     ]
    }
   ],
   "source": [
    "#clear all the element from a set\n",
    "\n",
    "my_set ={1,2,3,4,5,6,45}\n",
    "\n",
    "print(\"The Orig set is: \", my_set)\n",
    "\n",
    "my_set.clear()\n",
    "\n",
    "print(\"Set after clearing is: \", my_set)"
   ]
  },
  {
   "cell_type": "code",
   "execution_count": 13,
   "id": "381981d6",
   "metadata": {},
   "outputs": [
    {
     "name": "stdout",
     "output_type": "stream",
     "text": [
      "{2, 4, 6, 8, 10}\n"
     ]
    }
   ],
   "source": [
    "#create set of even nums from 1 to 10\n",
    "even_num = set()\n",
    "\n",
    "for num in range(1,11):\n",
    "    if num % 2 == 0:\n",
    "        even_num.add(num)\n",
    "    \n",
    "print(even_num)"
   ]
  },
  {
   "cell_type": "code",
   "execution_count": 14,
   "id": "8ecd22dd",
   "metadata": {},
   "outputs": [
    {
     "name": "stdout",
     "output_type": "stream",
     "text": [
      "{1, 3, 5, 7, 9}\n"
     ]
    }
   ],
   "source": [
    "#create set of odd nums from 1 to 10\n",
    "even_num = set()\n",
    "\n",
    "for num in range(1,11):\n",
    "    if num % 2 != 0:\n",
    "        even_num.add(num)\n",
    "    \n",
    "print(even_num)"
   ]
  },
  {
   "cell_type": "code",
   "execution_count": 7,
   "id": "7d7f4613",
   "metadata": {},
   "outputs": [
    {
     "name": "stdout",
     "output_type": "stream",
     "text": [
      "The Original set is: set1:{1, 2, 3, 4, 5} and set2{4, 5, 6, 7, 8} \n",
      "\n",
      "Their Union is:{1, 2, 3, 4, 5, 6, 7, 8}\n"
     ]
    }
   ],
   "source": [
    "#find the union of two sets\n",
    "\n",
    "# Define two sets\n",
    "set1 = {1, 2, 3, 4, 5}\n",
    "set2 = {4, 5, 6, 7, 8}\n",
    "\n",
    "union_result= set1.union(set2)\n",
    "\n",
    "print(f\"The Original set is: set1:{set1} and set2{set2} \\n\\nTheir Union is:{union_result}\")\n"
   ]
  },
  {
   "cell_type": "code",
   "execution_count": 1,
   "id": "3364388a",
   "metadata": {},
   "outputs": [
    {
     "name": "stdout",
     "output_type": "stream",
     "text": [
      "C:\\ProgramData\\Anaconda3;C:\\ProgramData\\Anaconda3\\Library\\mingw-w64\\bin;C:\\ProgramData\\Anaconda3\\Library\\usr\\bin;C:\\ProgramData\\Anaconda3\\Library\\bin;C:\\ProgramData\\Anaconda3\\Scripts;C:\\Program Files (x86)\\Common Files\\Oracle\\Java\\javapath;C:\\Users\\30086890\\Scripts\\;C:\\Users\\30086890\\;C:\\Program Files\\Python310\\Scripts\\;C:\\Program Files\\Python310\\;C:\\WINDOWS\\system32;C:\\WINDOWS;C:\\WINDOWS\\System32\\Wbem;C:\\WINDOWS\\System32\\WindowsPowerShell\\v1.0\\;C:\\Users\\30086890\\AppData\\Roaming\\Microsoft\\Windows\\Start Menu\\Programs\\Python 3.9;C:\\Program Files (x86)\\Google\\Cloud SDK\\google-cloud-sdk\\bin;C:\\Program Files\\Docker\\Docker\\resources\\bin;C:\\Program Files\\dotnet\\;C:\\Program Files (x86)\\Windows Kits\\10\\Windows Performance Toolkit\\;C:\\Users\\30086890\\AppData\\Local\\Microsoft\\WindowsApps;C:\\Users\\30086890\\Microsoft VS Code\\bin\n"
     ]
    }
   ],
   "source": [
    "#echo %PATH%"
   ]
  },
  {
   "cell_type": "code",
   "execution_count": 8,
   "id": "cb699c8e",
   "metadata": {},
   "outputs": [
    {
     "name": "stdout",
     "output_type": "stream",
     "text": [
      "The Original set is: set1:{1, 2, 3, 4, 5} and set2{4, 5, 6, 7, 8} \n",
      "\n",
      "Their intersection is:{4, 5}\n"
     ]
    }
   ],
   "source": [
    "#find the intersection of two sets\n",
    "\n",
    "# Define two sets\n",
    "set1 = {1, 2, 3, 4, 5}\n",
    "set2 = {4, 5, 6, 7, 8}\n",
    "\n",
    "intersection_result= set1.intersection(set2)\n",
    "\n",
    "print(f\"The Original set is: set1:{set1} and set2{set2} \\n\\nTheir intersection is:{intersection_result}\")"
   ]
  },
  {
   "cell_type": "code",
   "execution_count": 9,
   "id": "88675cb7",
   "metadata": {},
   "outputs": [
    {
     "name": "stdout",
     "output_type": "stream",
     "text": [
      "The Original set is: set1:{1, 2, 3, 4, 5} and set2{4, 5, 6, 7, 8} \n",
      "\n",
      "Theirdifference is:{1, 2, 3}\n"
     ]
    }
   ],
   "source": [
    "#find the difference of two sets\n",
    "\n",
    "# Define two sets\n",
    "set1 = {1, 2, 3, 4, 5}\n",
    "set2 = {4, 5, 6, 7, 8}\n",
    "\n",
    "intersection_result= set1.difference(set2)\n",
    "\n",
    "print(f\"The Original set is: set1:{set1} and set2{set2} \\n\\nTheirdifference is:{intersection_result}\")"
   ]
  },
  {
   "cell_type": "code",
   "execution_count": 10,
   "id": "86669cfb",
   "metadata": {},
   "outputs": [
    {
     "name": "stdout",
     "output_type": "stream",
     "text": [
      "Is set1 a subset of set2: True\n"
     ]
    }
   ],
   "source": [
    "#check if a set is subset of another\n",
    "# Define the two sets\n",
    "set1 = {1, 2, 3}\n",
    "set2 = {1, 2, 3, 4, 5}\n",
    "\n",
    "# Use the \"issubset()\" method to check if set1 is a subset of set2\n",
    "is_subset = set1.issubset(set2)\n",
    "\n",
    "# Print the result\n",
    "print(\"Is set1 a subset of set2:\", is_subset)"
   ]
  },
  {
   "cell_type": "code",
   "execution_count": 11,
   "id": "5bb52d35",
   "metadata": {},
   "outputs": [
    {
     "name": "stdout",
     "output_type": "stream",
     "text": [
      "set1 is a superset of set2\n"
     ]
    }
   ],
   "source": [
    "#check idf a set is superset of another\n",
    "# Create two sets\n",
    "set1 = {1, 2, 3, 4, 5, 6}\n",
    "set2 = {3, 4}\n",
    "\n",
    "# Check if set1 is a superset of set2\n",
    "is_superset = set1.issuperset(set2)\n",
    "\n",
    "# Print the result\n",
    "if is_superset:\n",
    "    print(\"set1 is a superset of set2\")\n",
    "else:\n",
    "    print(\"set1 is not a superset of set2\")"
   ]
  },
  {
   "cell_type": "code",
   "execution_count": 12,
   "id": "9cf1cd07",
   "metadata": {},
   "outputs": [
    {
     "name": "stdout",
     "output_type": "stream",
     "text": [
      "Original List: [2, 4, 1, 4, 3, 2, 5]\n",
      "Set from List: {1, 2, 3, 4, 5}\n"
     ]
    }
   ],
   "source": [
    "#create a set from my list\n",
    "my_list = [2, 4, 1, 4, 3, 2, 5]\n",
    "\n",
    "my_set = set(my_list)\n",
    "# Step 3: Print the original list and the resulting set\n",
    "print(\"Original List:\", my_list)\n",
    "print(\"Set from List:\", my_set)"
   ]
  },
  {
   "cell_type": "code",
   "execution_count": 13,
   "id": "17dd64de",
   "metadata": {},
   "outputs": [
    {
     "name": "stdout",
     "output_type": "stream",
     "text": [
      "Original Set: {1, 2, 3, 4, 5, 6, 9}\n",
      "Converted List: [1, 2, 3, 4, 5, 6, 9]\n"
     ]
    }
   ],
   "source": [
    "#convert a set to list\n",
    "# Step 1: Create a set with some elements\n",
    "my_set = {3, 1, 4, 1, 5, 9, 2, 6, 5}\n",
    "\n",
    "# Step 2: Convert the set to a list using the list() function\n",
    "my_list = list(my_set)\n",
    "\n",
    "# Now, my_list contains the elements from my_set in list format\n",
    "\n",
    "# Step 3: Print the original set and the converted list\n",
    "print(\"Original Set:\", my_set)\n",
    "print(\"Converted List:\", my_list)"
   ]
  },
  {
   "cell_type": "code",
   "execution_count": 11,
   "id": "0d2a421d",
   "metadata": {},
   "outputs": [
    {
     "name": "stdout",
     "output_type": "stream",
     "text": [
      "The Original set: {1, 2, 3, 4, 5}\n",
      "The Updated set after removing: 1,:,{2, 3, 4, 5}\n"
     ]
    }
   ],
   "source": [
    "#Remove a random element from a set\n",
    "import random \n",
    "\n",
    "my_set = {1,2,3,4,5}\n",
    "\n",
    "print(f\"The Original set: {my_set}\")\n",
    "\n",
    "#to choose a random element we using random.choice\n",
    "random_element = random.choice(list(my_set))\n",
    "my_set.remove(random_element)\n",
    "\n",
    "print(f\"The Updated set after removing: {random_element},:,{my_set}\")"
   ]
  },
  {
   "cell_type": "code",
   "execution_count": 12,
   "id": "f772fbf8",
   "metadata": {},
   "outputs": [
    {
     "name": "stdout",
     "output_type": "stream",
     "text": [
      "The Original Set:{1, 2, 3, 4, 5}\n",
      "The Popped element is 1\n",
      "Set after popping: {2, 3, 4, 5}\n"
     ]
    }
   ],
   "source": [
    "#Pop an element from a set\n",
    "my_set = {1,2,3,4,5}\n",
    "\n",
    "print(f\"The Original Set:{my_set}\")\n",
    "popped_element = my_set.pop()\n",
    "\n",
    "print(f\"The Popped element is {popped_element}\")\n",
    "# Print the set after popping an element\n",
    "print(\"Set after popping:\", my_set)"
   ]
  },
  {
   "cell_type": "code",
   "execution_count": 13,
   "id": "9ee03f09",
   "metadata": {},
   "outputs": [
    {
     "name": "stdout",
     "output_type": "stream",
     "text": [
      "The two sets have no elements in common.\n"
     ]
    }
   ],
   "source": [
    "#check if two sets have no elements in common\n",
    "# Step 1: Define two sets\n",
    "set1 = {1, 2, 3, 4}\n",
    "set2 = {5, 6, 7, 8}\n",
    "\n",
    "# Step 2: Check if the intersection of the two sets is empty\n",
    "# The intersection is the set of elements that are common to both sets\n",
    "common_elements = set1.intersection(set2)\n",
    "\n",
    "# Step 3: Check if the common_elements set is empty\n",
    "if not common_elements:\n",
    "    print(\"The two sets have no elements in common.\")\n",
    "else:\n",
    "    print(\"The two sets have common elements:\", common_elements)"
   ]
  },
  {
   "cell_type": "code",
   "execution_count": 1,
   "id": "a072bdc4",
   "metadata": {},
   "outputs": [
    {
     "name": "stdout",
     "output_type": "stream",
     "text": [
      "Symmetric Difference: {1, 2, 3, 6, 7, 8}\n"
     ]
    }
   ],
   "source": [
    "#find the symmetric difference between two sets\n",
    "# Define two sets\n",
    "set1 = {1, 2, 3, 4, 5}\n",
    "set2 = {4, 5, 6, 7, 8}\n",
    "\n",
    "# Calculate the symmetric difference using the ^ operator\n",
    "symmetric_difference = set1 ^ set2\n",
    "\n",
    "# Print the symmetric difference\n",
    "print(\"Symmetric Difference:\", symmetric_difference)"
   ]
  },
  {
   "cell_type": "code",
   "execution_count": 2,
   "id": "91afd857",
   "metadata": {},
   "outputs": [
    {
     "name": "stdout",
     "output_type": "stream",
     "text": [
      "set1:{1, 2, 3, 4}\n",
      "set1:{4, 5, 6, 7}\n",
      "Updated Set 1: {1, 2, 3, 4, 5, 6, 7}\n"
     ]
    }
   ],
   "source": [
    "#update a set with element from another set\n",
    "set1={1,2,3,4}\n",
    "print(f\"set1:{set1}\")\n",
    "\n",
    "set2={5,6,7,4}\n",
    "print(f\"set1:{set2}\")\n",
    "#Update set 1 with set2\n",
    "set1.update(set2)\n",
    "print(\"Updated Set 1:\", set1)\n"
   ]
  },
  {
   "cell_type": "code",
   "execution_count": 14,
   "id": "91ccd5a9",
   "metadata": {},
   "outputs": [
    {
     "name": "stdout",
     "output_type": "stream",
     "text": [
      "Set of the first 5 numbers: {37, 41, 11, 43, 13, 17, 19, 23, 29, 31}\n"
     ]
    }
   ],
   "source": [
    "#create a set of first 5 prime number\n",
    "def is_prime(num):\n",
    "    if num <= 1:\n",
    "        return False\n",
    "    for i in range(2, int(num **0.5)+1):\n",
    "        if num % i == 0:\n",
    "            return False\n",
    "    return True\n",
    "prime_num = set()\n",
    "num=10\n",
    "#Looping till we get first 5 prime numbers\n",
    "while len(prime_num) < 10 :\n",
    "    #check if the current number is prime using is_prime function\n",
    "    if is_prime(num):\n",
    "        #if the number is prime then we need to add it to the prime set\n",
    "        prime_num.add(num)\n",
    "    num +=1\n",
    "    \n",
    "print(f\"Set of the first 5 numbers: {prime_num}\")"
   ]
  },
  {
   "cell_type": "code",
   "execution_count": 16,
   "id": "ea4fe9d7",
   "metadata": {},
   "outputs": [
    {
     "name": "stdout",
     "output_type": "stream",
     "text": [
      "Set of the first 5 numbers: [11, 13, 17, 19, 23, 29, 31, 37, 41, 43]\n"
     ]
    }
   ],
   "source": [
    "#create a set of first 5 prime number using list\n",
    "def is_prime(num):\n",
    "    if num <= 1:\n",
    "        return False\n",
    "    for i in range(2, int(num **0.5)+1):\n",
    "        if num % i == 0:\n",
    "            return False\n",
    "    return True\n",
    "prime_num = []\n",
    "num=10\n",
    "#Looping till we get first 5 prime numbers\n",
    "while len(prime_num) < 10 :\n",
    "    #check if the current number is prime using is_prime function\n",
    "    if is_prime(num):\n",
    "        #if the number is prime then we need to add it to the prime set\n",
    "        prime_num.append(num)\n",
    "    num +=1\n",
    "    \n",
    "print(f\"Set of the first 5 numbers: {prime_num}\")"
   ]
  },
  {
   "cell_type": "code",
   "execution_count": 17,
   "id": "c23a4ad4",
   "metadata": {},
   "outputs": [
    {
     "name": "stdout",
     "output_type": "stream",
     "text": [
      "They are identical\n"
     ]
    }
   ],
   "source": [
    "#Check if two set are identical\n",
    "set1 = {1, 2, 3, 4, 5}\n",
    "set2 = {3, 1, 5, 2, 4} \n",
    "\n",
    "if set1==set2:\n",
    "    print(\"They are identical\")\n",
    "else:\n",
    "    print(\"Not Identical\")"
   ]
  },
  {
   "cell_type": "code",
   "execution_count": 19,
   "id": "e46e6c34",
   "metadata": {},
   "outputs": [
    {
     "name": "stdout",
     "output_type": "stream",
     "text": [
      "Frozen set: frozenset({1, 2, 3, 4, 5})\n"
     ]
    }
   ],
   "source": [
    "#create a frozen set\n",
    "elements = [1, 2, 3, 4, 5]\n",
    "my_frozen_set=frozenset(elements)\n",
    "\n",
    "print(f\"Frozen set: {my_frozen_set}\")"
   ]
  },
  {
   "cell_type": "code",
   "execution_count": 21,
   "id": "eb02ad05",
   "metadata": {},
   "outputs": [
    {
     "name": "stdout",
     "output_type": "stream",
     "text": [
      "The set is disjoint or not: False\n"
     ]
    }
   ],
   "source": [
    "#check if a set is disjoint with another set\n",
    "set1 = {1, 2, 3, 4, 5}\n",
    "set2 = {3, 1, 5, 2, 4} \n",
    "\n",
    "disjoints_sets= set1.isdisjoint(set2)\n",
    "\n",
    "print(f\"The set is disjoint or not: {disjoints_sets}\")"
   ]
  },
  {
   "cell_type": "code",
   "execution_count": 22,
   "id": "0730d5b9",
   "metadata": {},
   "outputs": [
    {
     "name": "stdout",
     "output_type": "stream",
     "text": [
      "{1, 4, 9, 16, 25}\n"
     ]
    }
   ],
   "source": [
    "#Create a set of square of numbers from 1 to 5\n",
    "\n",
    "square_set = set()\n",
    "for num in range(1,6):\n",
    "    squares= num**2\n",
    "    square_set.add(squares)\n",
    "    \n",
    "print(square_set)"
   ]
  },
  {
   "cell_type": "code",
   "execution_count": 24,
   "id": "16cb378a",
   "metadata": {},
   "outputs": [
    {
     "name": "stdout",
     "output_type": "stream",
     "text": [
      "The original number {1, 2, 3, 4, 5, 34, 33, 56}\n",
      "Even num set {56, 2, 4, 34}\n"
     ]
    }
   ],
   "source": [
    "#Filter out the even numbers from the set\n",
    "original_set = {1, 2, 3, 4, 5,34,33,56}\n",
    "\n",
    "even_num_set = set()\n",
    "for num in original_set:\n",
    "    if num%2==0:\n",
    "        even_num_set.add(num)\n",
    "        \n",
    "print(\"The original number\",original_set)\n",
    "print(\"Even num set\",even_num_set)"
   ]
  },
  {
   "cell_type": "code",
   "execution_count": 25,
   "id": "9ddf1705",
   "metadata": {},
   "outputs": [
    {
     "name": "stdout",
     "output_type": "stream",
     "text": [
      "Original Set: {1, 2, 3, 4, 5, 34, 33, 56}\n",
      "Multiplied Set: {2, 66, 4, 68, 6, 8, 10, 112}\n"
     ]
    }
   ],
   "source": [
    "#multiply all elements in a set by 2\n",
    "original_set = {1, 2, 3, 4, 5,34,33,56}\n",
    "\n",
    "multiplied_set = set()\n",
    "for num in original_set:\n",
    "    multiplied_num = num*2\n",
    "    multiplied_set.add(multiplied_num)\n",
    "    # The original_set remains unchanged\n",
    "print(\"Original Set:\", original_set)\n",
    "\n",
    "# Display the set with elements multiplied by 2\n",
    "print(\"Multiplied Set:\", multiplied_set)\n"
   ]
  },
  {
   "cell_type": "code",
   "execution_count": 27,
   "id": "f05e01dd",
   "metadata": {},
   "outputs": [
    {
     "name": "stdout",
     "output_type": "stream",
     "text": [
      "Generated set of random numbers: {65, 98, 3, 68, 13}\n"
     ]
    }
   ],
   "source": [
    "#create a set of random numbers\n",
    "import random \n",
    "\n",
    "num_random_numbers= 5\n",
    "# Step 3: Initialize an empty set to store the random numbers\n",
    "random_number_set = set()\n",
    "\n",
    "# Step 4: Use a loop to generate random numbers and add them to the set\n",
    "for _ in range(num_random_numbers):\n",
    "    # Generate a random integer using the `randint` function from the `random` module\n",
    "    random_num = random.randint(1, 100)  # Generate a random number between 1 and 100\n",
    "    # Add the random number to the set\n",
    "    random_number_set.add(random_num)\n",
    "\n",
    "# Step 5: Print the generated set of random numbers\n",
    "print(\"Generated set of random numbers:\", random_number_set)"
   ]
  },
  {
   "cell_type": "code",
   "execution_count": 28,
   "id": "846c35cd",
   "metadata": {},
   "outputs": [
    {
     "name": "stdout",
     "output_type": "stream",
     "text": [
      "The set is empty.\n"
     ]
    }
   ],
   "source": [
    "#Check if a set is empty\n",
    "my_set = set()\n",
    "\n",
    "# Step 2: Check if the set is empty using the 'if' statement\n",
    "if not my_set:\n",
    "    print(\"The set is empty.\")\n",
    "else:\n",
    "    print(\"The set is not empty.\")"
   ]
  },
  {
   "cell_type": "code",
   "execution_count": 29,
   "id": "5a82847d",
   "metadata": {},
   "outputs": [
    {
     "name": "stdout",
     "output_type": "stream",
     "text": [
      "Nested Set: {frozenset({1, 2, 3, 4, 5}), frozenset({6, 7, 8, 9, 10})}\n"
     ]
    }
   ],
   "source": [
    "#create a nested set\n",
    "# Step 1: Create the inner sets\n",
    "set1 = {1, 2, 3, 4, 5}\n",
    "set2 = {6, 7, 8, 9, 10}\n",
    "\n",
    "# Step 2: Create frozensets from the inner sets\n",
    "frozen_set1 = frozenset(set1)\n",
    "frozen_set2 = frozenset(set2)\n",
    "\n",
    "# Step 3: Create the nested set using the frozensets\n",
    "nested_set = {frozen_set1, frozen_set2}\n",
    "\n",
    "# Print the nested set\n",
    "print(\"Nested Set:\", nested_set)"
   ]
  },
  {
   "cell_type": "code",
   "execution_count": 30,
   "id": "bd403392",
   "metadata": {},
   "outputs": [
    {
     "name": "stdout",
     "output_type": "stream",
     "text": [
      "Initial set: {1, 2, 3, 4, 5}\n",
      "Set after removing 3 : {1, 2, 4, 5}\n"
     ]
    }
   ],
   "source": [
    "#Remove an element from a set using deiscard method\n",
    "# Create a set with some elements\n",
    "my_set = {1, 2, 3, 4, 5}\n",
    "\n",
    "# Display the initial set\n",
    "print(\"Initial set:\", my_set)\n",
    "\n",
    "# Define the element to be removed\n",
    "element_to_remove = 3\n",
    "\n",
    "# Use the discard() method to remove the element from the set\n",
    "# If the element is not present in the set, discard() won't raise an error\n",
    "my_set.discard(element_to_remove)\n",
    "\n",
    "# Display the set after removing the element\n",
    "print(\"Set after removing\", element_to_remove, \":\", my_set)"
   ]
  },
  {
   "cell_type": "code",
   "execution_count": 31,
   "id": "d79a6cab",
   "metadata": {},
   "outputs": [
    {
     "name": "stdout",
     "output_type": "stream",
     "text": [
      "Set 1: {1, 2, 3, 4, 5}\n",
      "Set 2: {4, 5, 6, 7, 8}\n",
      "Is set1 a subset of set2? False\n",
      "Is set2 a subset of set1? False\n",
      "Intersection: {4, 5}\n",
      "Union: {1, 2, 3, 4, 5, 6, 7, 8}\n",
      "Elements in set1 but not in set2: {1, 2, 3}\n",
      "Elements in set2 but not in set1: {8, 6, 7}\n"
     ]
    }
   ],
   "source": [
    "#compare two sets\n",
    "# Step 1: Define two sets\n",
    "set1 = {1, 2, 3, 4, 5}\n",
    "set2 = {4, 5, 6, 7, 8}\n",
    "\n",
    "# Step 2: Use set operations to compare the sets\n",
    "# Check if set1 is a subset of set2\n",
    "is_subset = set1.issubset(set2)\n",
    "\n",
    "# Check if set2 is a subset of set1\n",
    "is_superset = set1.issuperset(set2)\n",
    "\n",
    "# Find the intersection of the sets\n",
    "intersection = set1.intersection(set2)\n",
    "\n",
    "# Find the union of the sets\n",
    "union = set1.union(set2)\n",
    "\n",
    "# Find the elements that are in set1 but not in set2\n",
    "difference1 = set1.difference(set2)\n",
    "\n",
    "# Find the elements that are in set2 but not in set1\n",
    "difference2 = set2.difference(set1)\n",
    "\n",
    "# Step 3: Print the results\n",
    "print(\"Set 1:\", set1)\n",
    "print(\"Set 2:\", set2)\n",
    "print(\"Is set1 a subset of set2?\", is_subset)\n",
    "print(\"Is set2 a subset of set1?\", is_superset)\n",
    "print(\"Intersection:\", intersection)\n",
    "print(\"Union:\", union)\n",
    "print(\"Elements in set1 but not in set2:\", difference1)\n",
    "print(\"Elements in set2 but not in set1:\", difference2)"
   ]
  },
  {
   "cell_type": "code",
   "execution_count": 33,
   "id": "70c01d01",
   "metadata": {},
   "outputs": [
    {
     "name": "stdout",
     "output_type": "stream",
     "text": [
      "{'l', 'e', 'h', 'o'}\n"
     ]
    }
   ],
   "source": [
    "#create a set from a string\n",
    "input_string= \"hello\"\n",
    "char_set = set(input_string)\n",
    "print(char_set)"
   ]
  },
  {
   "cell_type": "code",
   "execution_count": 34,
   "id": "b4df79e4",
   "metadata": {},
   "outputs": [
    {
     "name": "stdout",
     "output_type": "stream",
     "text": [
      "Original String Set: {'154', '887', '853'}\n",
      "Converted Integer Set: {154, 853, 887}\n"
     ]
    }
   ],
   "source": [
    "#convert a set of string to a set of integers\n",
    "string_set= {\"154\",\"887\",\"853\"}\n",
    "integer_set= set()\n",
    "for string in string_set:\n",
    "    integer_value = int(string)\n",
    "    integer_set.add(integer_value)\n",
    "# Step 6: Print the original string set and the converted integer set\n",
    "print(\"Original String Set:\", string_set)\n",
    "print(\"Converted Integer Set:\", integer_set)"
   ]
  },
  {
   "cell_type": "code",
   "execution_count": 1,
   "id": "e273af66",
   "metadata": {},
   "outputs": [
    {
     "name": "stdout",
     "output_type": "stream",
     "text": [
      "The original set is:  {1, 2, 3, 4, 5}\n",
      "The converted set is:  {'5', '4', '2', '1', '3'}\n"
     ]
    }
   ],
   "source": [
    "#convert a set of integers to a set of strings\n",
    "\n",
    "integers_set={1,2,3,4,5}\n",
    "\n",
    "string_set = set()\n",
    "#iterate through each integer\n",
    "for num in integers_set:\n",
    "    num_str = str(num)\n",
    "    string_set.add(num_str)\n",
    "    \n",
    "print(\"The original set is: \",integers_set)\n",
    "print(\"The converted set is: \", string_set)"
   ]
  },
  {
   "cell_type": "code",
   "execution_count": 2,
   "id": "6cd59a0d",
   "metadata": {},
   "outputs": [
    {
     "name": "stdout",
     "output_type": "stream",
     "text": [
      "{1, 2, 3, 4, 5}\n"
     ]
    }
   ],
   "source": [
    "#create a set from tuple\n",
    "input_tuple = (1,2,3,4,2,5,3,1)\n",
    "\n",
    "outputset =set(input_tuple)\n",
    "\n",
    "print(outputset)"
   ]
  },
  {
   "cell_type": "code",
   "execution_count": 3,
   "id": "d4b6615c",
   "metadata": {},
   "outputs": [
    {
     "name": "stdout",
     "output_type": "stream",
     "text": [
      "(1, 2, 3, 4, 5)\n"
     ]
    }
   ],
   "source": [
    "#convert a set to a tuple\n",
    "input_set = {1,2,3,4,5}\n",
    "\n",
    "output_tuple = tuple(input_set)\n",
    "\n",
    "print(output_tuple)"
   ]
  },
  {
   "cell_type": "code",
   "execution_count": 4,
   "id": "d638a673",
   "metadata": {},
   "outputs": [
    {
     "name": "stdout",
     "output_type": "stream",
     "text": [
      "25\n"
     ]
    }
   ],
   "source": [
    "#Find the max value in a set \n",
    "my_set = {15,7,25,3}\n",
    "\n",
    "max_value = None\n",
    "\n",
    "for num in my_set:\n",
    "    if max_value is None or num >max_value:\n",
    "        max_value = num \n",
    "print(max_value)"
   ]
  },
  {
   "cell_type": "code",
   "execution_count": 5,
   "id": "87795191",
   "metadata": {},
   "outputs": [
    {
     "name": "stdout",
     "output_type": "stream",
     "text": [
      "25\n"
     ]
    }
   ],
   "source": [
    "my_set = {15,7,25,3}\n",
    "x= max(my_set)\n",
    "print(x)"
   ]
  },
  {
   "cell_type": "code",
   "execution_count": 6,
   "id": "a64c5745",
   "metadata": {},
   "outputs": [
    {
     "name": "stdout",
     "output_type": "stream",
     "text": [
      "3\n"
     ]
    }
   ],
   "source": [
    "#find the min value in the set \n",
    "my_set = {15,7,25,3}\n",
    "min_value = None \n",
    "for num in my_set:\n",
    "    if min_value is None or num < min_value:\n",
    "        min_value = num\n",
    "        \n",
    "print(min_value)"
   ]
  },
  {
   "cell_type": "code",
   "execution_count": 10,
   "id": "161db465",
   "metadata": {},
   "outputs": [
    {
     "name": "stdout",
     "output_type": "stream",
     "text": [
      "Enter elements for the set (type 'done' to finish):\n",
      "> hello,how,you,done\n"
     ]
    },
    {
     "ename": "TypeError",
     "evalue": "unhashable type: 'set'",
     "output_type": "error",
     "traceback": [
      "\u001b[1;31m---------------------------------------------------------------------------\u001b[0m",
      "\u001b[1;31mTypeError\u001b[0m                                 Traceback (most recent call last)",
      "\u001b[1;32m~\\AppData\\Local\\Temp\\ipykernel_11100\\3309041104.py\u001b[0m in \u001b[0;36m<module>\u001b[1;34m\u001b[0m\n\u001b[0;32m      8\u001b[0m         \u001b[1;32mbreak\u001b[0m\u001b[1;33m\u001b[0m\u001b[1;33m\u001b[0m\u001b[0m\n\u001b[0;32m      9\u001b[0m \u001b[1;33m\u001b[0m\u001b[0m\n\u001b[1;32m---> 10\u001b[1;33m     \u001b[0muser_set\u001b[0m\u001b[1;33m.\u001b[0m\u001b[0madd\u001b[0m\u001b[1;33m(\u001b[0m\u001b[0muser_set\u001b[0m\u001b[1;33m)\u001b[0m\u001b[1;33m\u001b[0m\u001b[1;33m\u001b[0m\u001b[0m\n\u001b[0m\u001b[0;32m     11\u001b[0m \u001b[1;33m\u001b[0m\u001b[0m\n\u001b[0;32m     12\u001b[0m \u001b[0mprint\u001b[0m\u001b[1;33m(\u001b[0m\u001b[0muser_set\u001b[0m\u001b[1;33m)\u001b[0m\u001b[1;33m\u001b[0m\u001b[1;33m\u001b[0m\u001b[0m\n",
      "\u001b[1;31mTypeError\u001b[0m: unhashable type: 'set'"
     ]
    }
   ],
   "source": [
    "#create a set from user input\n",
    "user_set =  set()\n",
    "print(\"Enter elements for the set (type 'done' to finish):\")\n",
    "while True:\n",
    "    user_input = input(\"> \")\n",
    "    \n",
    "    if user_input.lower()== 'done':\n",
    "        break\n",
    "        \n",
    "    user_set.add(user_set)\n",
    "    \n",
    "print(user_set)"
   ]
  },
  {
   "cell_type": "code",
   "execution_count": 11,
   "id": "81e7fcd5",
   "metadata": {},
   "outputs": [
    {
     "name": "stdout",
     "output_type": "stream",
     "text": [
      "The intersection of the two sets is not empty.\n"
     ]
    }
   ],
   "source": [
    "# Step 1: Define two sets\n",
    "set1 = {1, 2, 3, 4, 5}\n",
    "set2 = {4, 5, 6, 7, 8}\n",
    "\n",
    "# Step 2: Find the intersection of the two sets using the `intersection()` method\n",
    "intersection_result = set1.intersection(set2)\n",
    "\n",
    "# Step 3: Check if the intersection result is empty\n",
    "if not intersection_result:\n",
    "    print(\"The intersection of the two sets is empty.\")\n",
    "else:\n",
    "    print(\"The intersection of the two sets is not empty.\")"
   ]
  },
  {
   "cell_type": "code",
   "execution_count": 12,
   "id": "734e0c89",
   "metadata": {},
   "outputs": [
    {
     "name": "stdout",
     "output_type": "stream",
     "text": [
      "Set of the first 5 Fibonacci numbers: {0, 1, 2, 3, 5}\n"
     ]
    }
   ],
   "source": [
    "#first 5 fibonacci sets\n",
    "# Create a set to store the first 5 Fibonacci numbers\n",
    "fibonacci_set = set()\n",
    "\n",
    "# Initialize the first two Fibonacci numbers\n",
    "a, b = 0, 1\n",
    "\n",
    "# Loop to generate the first 5 Fibonacci numbers\n",
    "for _ in range(6):\n",
    "    # Add the current Fibonacci number to the set\n",
    "    fibonacci_set.add(a)\n",
    "\n",
    "    # Calculate the next Fibonacci number\n",
    "    a, b = b, a + b\n",
    "\n",
    "# Print the set of Fibonacci numbers\n",
    "print(\"Set of the first 5 Fibonacci numbers:\", fibonacci_set)"
   ]
  },
  {
   "cell_type": "code",
   "execution_count": 13,
   "id": "88eb5089",
   "metadata": {},
   "outputs": [
    {
     "name": "stdout",
     "output_type": "stream",
     "text": [
      "Original List: [2, 4, 6, 8, 4, 10, 6, 12, 14, 8]\n",
      "List with Duplicates Removed: [2, 4, 6, 8, 10, 12, 14]\n"
     ]
    }
   ],
   "source": [
    "#remove duplicates from list using sets\n",
    "# Step 1: Define a list with duplicates\n",
    "original_list = [2, 4, 6, 8, 4, 10, 6, 12, 14, 8]\n",
    "\n",
    "# Step 2: Convert the list to a set\n",
    "unique_set = set(original_list)\n",
    "# Now, 'unique_set' contains only unique elements from 'original_list'\n",
    "\n",
    "# Step 3: Convert the set back to a list\n",
    "unique_list = list(unique_set)\n",
    "# Now, 'unique_list' is a list containing only unique elements\n",
    "\n",
    "# Step 4: Print the original list and the list with duplicates removed\n",
    "print(\"Original List:\", original_list)\n",
    "print(\"List with Duplicates Removed:\", unique_list)"
   ]
  },
  {
   "cell_type": "code",
   "execution_count": 14,
   "id": "8217535a",
   "metadata": {},
   "outputs": [
    {
     "name": "stdout",
     "output_type": "stream",
     "text": [
      "The sets have the same elements.\n"
     ]
    }
   ],
   "source": [
    "#check if two set have same element,regardless of their count\n",
    "def have_same_elements(set1, set2):\n",
    "    # Convert the sets to lists and sort them\n",
    "    sorted_list1 = sorted(list(set1))\n",
    "    sorted_list2 = sorted(list(set2))\n",
    "\n",
    "    # Compare the sorted lists to check if they are equal\n",
    "    return sorted_list1 == sorted_list2\n",
    "\n",
    "# Example sets\n",
    "set1 = {1, 2, 3, 2, 1}\n",
    "set2 = {3, 1, 2}\n",
    "\n",
    "# Check if the sets have the same elements\n",
    "result = have_same_elements(set1, set2)\n",
    "\n",
    "# Print the result\n",
    "if result:\n",
    "    print(\"The sets have the same elements.\")\n",
    "else:\n",
    "    print(\"The sets do not have the same elements.\")"
   ]
  },
  {
   "cell_type": "code",
   "execution_count": 15,
   "id": "f8689e47",
   "metadata": {},
   "outputs": [
    {
     "name": "stdout",
     "output_type": "stream",
     "text": [
      "{1, 2, 4, 8, 16}\n"
     ]
    }
   ],
   "source": [
    "#create a set of first n power of 2\n",
    "def generate_powers_of_2(n):\n",
    "    # Initialize an empty set to store the powers of 2\n",
    "    powers_of_2 = set()\n",
    "\n",
    "    # Loop from 0 to n-1\n",
    "    for i in range(n):\n",
    "        # Calculate the current power of 2 using the exponentiation operator **\n",
    "        power = 2 ** i\n",
    "\n",
    "        # Add the current power of 2 to the set\n",
    "        powers_of_2.add(power)\n",
    "\n",
    "    # Return the set of powers of 2\n",
    "    return powers_of_2\n",
    "\n",
    "# Define the value of n\n",
    "n = 5\n",
    "\n",
    "# Call the function to generate the set of powers of 2\n",
    "powers_set = generate_powers_of_2(n)\n",
    "\n",
    "# Print the resulting set\n",
    "print(powers_set)"
   ]
  },
  {
   "cell_type": "code",
   "execution_count": 16,
   "id": "1b27dfc3",
   "metadata": {},
   "outputs": [
    {
     "name": "stdout",
     "output_type": "stream",
     "text": [
      "Common elements: [7, 9, 12]\n"
     ]
    }
   ],
   "source": [
    "#find a common elemen between set and list\n",
    "# Step 1: Define a set and a list\n",
    "my_set = {3, 7, 9, 12, 15}\n",
    "my_list = [7, 12, 5, 9]\n",
    "\n",
    "# Step 2: Convert the list to a set for efficient comparison\n",
    "list_to_set = set(my_list)\n",
    "\n",
    "# Step 3: Initialize an empty list to store common elements\n",
    "common_elements = []\n",
    "\n",
    "# Step 4: Iterate through the elements in the set\n",
    "for element in my_set:\n",
    "    # Step 5: Check if the element is present in the converted set (list_to_set)\n",
    "    if element in list_to_set:\n",
    "        # Step 6: If the element is present in both the set and the list, add it to the common_elements list\n",
    "        common_elements.append(element)\n",
    "\n",
    "# Step 7: Print the common elements\n",
    "print(\"Common elements:\", common_elements)"
   ]
  },
  {
   "cell_type": "code",
   "execution_count": 17,
   "id": "443e14e4",
   "metadata": {},
   "outputs": [
    {
     "name": "stdout",
     "output_type": "stream",
     "text": [
      "Enter the value of n: 10\n",
      "The set of the first 10 triangular numbers is: {1, 3, 36, 6, 10, 45, 15, 21, 55, 28}\n"
     ]
    }
   ],
   "source": [
    "#create a set of first n triangular number\n",
    "def generate_triangular_numbers(n):\n",
    "    triangular_numbers = set()  # Create an empty set to store the triangular numbers\n",
    "    for i in range(1, n + 1):\n",
    "        triangular_number = i * (i + 1) // 2  # Calculate the ith triangular number using the formula\n",
    "        triangular_numbers.add(triangular_number)  # Add the calculated triangular number to the set\n",
    "    return triangular_numbers\n",
    "\n",
    "# Input the value of 'n'\n",
    "n = int(input(\"Enter the value of n: \"))\n",
    "\n",
    "# Call the function to generate the set of first 'n' triangular numbers\n",
    "triangular_set = generate_triangular_numbers(n)\n",
    "\n",
    "# Display the set of triangular numbers\n",
    "print(f\"The set of the first {n} triangular numbers is:\", triangular_set)"
   ]
  },
  {
   "cell_type": "code",
   "execution_count": 18,
   "id": "81d181b1",
   "metadata": {},
   "outputs": [
    {
     "name": "stdout",
     "output_type": "stream",
     "text": [
      "set2 is a subset of set1\n"
     ]
    }
   ],
   "source": [
    "#check if set contain another set as a subset \n",
    "# Define two sets\n",
    "set1 = {1, 2, 3, 4, 5}\n",
    "set2 = {3, 4}\n",
    "\n",
    "# Check if set2 is a subset of set1\n",
    "is_subset = set2.issubset(set1)\n",
    "\n",
    "# Print the result\n",
    "if is_subset:\n",
    "    print(\"set2 is a subset of set1\")\n",
    "else:\n",
    "    print(\"set2 is not a subset of set1\")"
   ]
  },
  {
   "cell_type": "code",
   "execution_count": 19,
   "id": "80adaf1d",
   "metadata": {},
   "outputs": [
    {
     "name": "stdout",
     "output_type": "stream",
     "text": [
      "{0, 1}\n"
     ]
    }
   ],
   "source": [
    "#create a set of alternating 1 and 0 of length n\n",
    "def create_alternating_set(n):\n",
    "    # Initialize an empty set to store the alternating sequence.\n",
    "    alternating_set = set()\n",
    "\n",
    "    # Loop to generate alternating 1s and 0s.\n",
    "    for i in range(n):\n",
    "        # Alternate between adding 1 and 0 to the set based on whether i is even or odd.\n",
    "        if i % 2 == 0:\n",
    "            alternating_set.add(1)  # Add 1 if i is even.\n",
    "        else:\n",
    "            alternating_set.add(0)  # Add 0 if i is odd.\n",
    "\n",
    "    return alternating_set\n",
    "\n",
    "# Define the desired length of the alternating set.\n",
    "length_n = 10\n",
    "\n",
    "# Call the function to create the alternating set of length 'length_n'.\n",
    "result = create_alternating_set(length_n)\n",
    "\n",
    "# Print the resulting set.\n",
    "print(result)"
   ]
  },
  {
   "cell_type": "code",
   "execution_count": 20,
   "id": "616600b5",
   "metadata": {},
   "outputs": [
    {
     "name": "stdout",
     "output_type": "stream",
     "text": [
      "Merged Set: {1, 2, 3, 4, 5, 6, 7}\n"
     ]
    }
   ],
   "source": [
    "#merge multiple set into one\n",
    "# Step 1: Create multiple sets\n",
    "set1 = {1, 2, 3}\n",
    "set2 = {3, 4, 5}\n",
    "set3 = {5, 6, 7}\n",
    "\n",
    "# Step 2: Use the union() method to merge sets\n",
    "merged_set = set1.union(set2, set3)\n",
    "\n",
    "# Alternatively, you can use the | operator\n",
    "# merged_set = set1 | set2 | set3\n",
    "\n",
    "# Step 3: Print the merged set\n",
    "print(\"Merged Set:\", merged_set)"
   ]
  },
  {
   "cell_type": "code",
   "execution_count": null,
   "id": "01a11695",
   "metadata": {},
   "outputs": [],
   "source": []
  }
 ],
 "metadata": {
  "kernelspec": {
   "display_name": "Python 3 (ipykernel)",
   "language": "python",
   "name": "python3"
  },
  "language_info": {
   "codemirror_mode": {
    "name": "ipython",
    "version": 3
   },
   "file_extension": ".py",
   "mimetype": "text/x-python",
   "name": "python",
   "nbconvert_exporter": "python",
   "pygments_lexer": "ipython3",
   "version": "3.9.13"
  }
 },
 "nbformat": 4,
 "nbformat_minor": 5
}
